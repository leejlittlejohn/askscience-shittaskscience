{
 "cells": [
  {
   "cell_type": "code",
   "execution_count": 1,
   "metadata": {},
   "outputs": [],
   "source": [
    "import numpy as np\n",
    "import pandas as pd\n",
    "import matplotlib.pyplot as plt\n",
    "import seaborn as sns\n",
    "\n",
    "from sklearn.pipeline import Pipeline\n",
    "from sklearn.model_selection import train_test_split, cross_val_score, GridSearchCV\n",
    "from sklearn.preprocessing import StandardScaler\n",
    "from sklearn.base import TransformerMixin\n",
    "from sklearn.feature_extraction.text import CountVectorizer, TfidfVectorizer\n",
    "from sklearn.naive_bayes import MultinomialNB, GaussianNB, ComplementNB\n",
    "from sklearn.linear_model import LogisticRegression, Perceptron, RidgeClassifier\n",
    "from sklearn.neighbors import KNeighborsClassifier\n",
    "from sklearn.ensemble import VotingClassifier\n",
    "from sklearn.svm import LinearSVC\n",
    "from sklearn.metrics import accuracy_score, confusion_matrix, roc_auc_score, plot_roc_curve\n",
    "\n",
    "from xgboost import XGBClassifier\n",
    "\n",
    "from nltk.stem import PorterStemmer\n",
    "from nltk.corpus import stopwords"
   ]
  },
  {
   "cell_type": "markdown",
   "metadata": {},
   "source": [
    "## EDA\n",
    "---\n",
    "\n",
    "### Read in Data"
   ]
  },
  {
   "cell_type": "code",
   "execution_count": 2,
   "metadata": {},
   "outputs": [
    {
     "name": "stderr",
     "output_type": "stream",
     "text": [
      "C:\\Users\\leejl\\anaconda3\\lib\\site-packages\\IPython\\core\\interactiveshell.py:3063: DtypeWarning: Columns (0,1,9,10,19,22,25,26,28,29,42,56,69,72,73,74,75,76,77,78,79,80,82,83,84,86,89,90,92,94,95) have mixed types.Specify dtype option on import or set low_memory=False.\n",
      "  interactivity=interactivity, compiler=compiler, result=result)\n"
     ]
    },
    {
     "data": {
      "text/plain": [
       "(42598, 96)"
      ]
     },
     "execution_count": 2,
     "metadata": {},
     "output_type": "execute_result"
    }
   ],
   "source": [
    "b4anchor = pd.read_csv('./data/b4timeanchor.csv')\n",
    "afteranchor = pd.read_csv('./data/aftertimeanchor.csv')\n",
    "\n",
    "# join both datasets, set unique indices\n",
    "df = pd.concat([b4anchor, afteranchor])\n",
    "df.reset_index(drop=True, inplace=True)\n",
    "df.shape"
   ]
  },
  {
   "cell_type": "markdown",
   "metadata": {},
   "source": [
    "### Drop Superfluous Columns, Deleted Posts, and Posts Removed by Moderators"
   ]
  },
  {
   "cell_type": "code",
   "execution_count": 3,
   "metadata": {},
   "outputs": [],
   "source": [
    "# drop 91 columns of unneccessary data\n",
    "df = df[['subreddit', 'title', 'removed_by_category', 'banned_by']]"
   ]
  },
  {
   "cell_type": "code",
   "execution_count": 4,
   "metadata": {},
   "outputs": [
    {
     "data": {
      "text/plain": [
       "(38170, 4)"
      ]
     },
     "execution_count": 4,
     "metadata": {},
     "output_type": "execute_result"
    }
   ],
   "source": [
    "# drop posts that generated user bans\n",
    "df = df.loc[df['banned_by'] != 'moderators', :]\n",
    "\n",
    "# drop deleted posts and posts removed by moderators\n",
    "df = df.loc[(df['removed_by_category'] != 'deleted')\n",
    "            & (df['removed_by_category'] != 'moderator')\n",
    "            & (df['removed_by_category'] != 'automod_filtered')\n",
    "            & (df['removed_by_category'] != 'author'), :]\n",
    "\n",
    "# check dataframe shape\n",
    "df.shape"
   ]
  },
  {
   "cell_type": "markdown",
   "metadata": {},
   "source": [
    "### Investigate Stopwords Specific to This Data\n"
   ]
  },
  {
   "cell_type": "markdown",
   "metadata": {},
   "source": [
    "Most of these posts are questions, likely respresented in similar ratios in each subreddit, so certain question words like \"why\" and \"how\" will likely impart no meaning when classifying. CountVectorizer tokenizes and counts words, so lets use it hunt down extra stopwords unique to this corpus instead of manually breaking every document apart and counting tokens."
   ]
  },
  {
   "cell_type": "code",
   "execution_count": 5,
   "metadata": {},
   "outputs": [
    {
     "name": "stdout",
     "output_type": "stream",
     "text": [
      "15430\n",
      "16974\n"
     ]
    }
   ],
   "source": [
    "# multiple CountVectorizer objects are needed to compare word frequencies between classes\n",
    "\n",
    "# initializing vectorizers with the NLTK default stopwords to avoid \n",
    "cvec = CountVectorizer(strip_accents='ascii', stop_words=stopwords.words('english'))\n",
    "shitty_cvec = CountVectorizer(strip_accents='ascii', stop_words=stopwords.words('english'))\n",
    "\n",
    "# implement the vectorizers\n",
    "word_counts = cvec.fit_transform(df.loc[df['subreddit'] == 'askscience', 'title'])\n",
    "shitty_word_counts = shitty_cvec.fit_transform(df.loc[df['subreddit'] == 'shittyaskscience', 'title'])\n",
    "\n",
    "# take a look at how many features this created\n",
    "print(len(cvec.get_feature_names()))\n",
    "print(len(shitty_cvec.get_feature_names()))"
   ]
  },
  {
   "cell_type": "code",
   "execution_count": 6,
   "metadata": {},
   "outputs": [
    {
     "data": {
      "text/html": [
       "<div>\n",
       "<style scoped>\n",
       "    .dataframe tbody tr th:only-of-type {\n",
       "        vertical-align: middle;\n",
       "    }\n",
       "\n",
       "    .dataframe tbody tr th {\n",
       "        vertical-align: top;\n",
       "    }\n",
       "\n",
       "    .dataframe thead th {\n",
       "        text-align: right;\n",
       "    }\n",
       "</style>\n",
       "<table border=\"1\" class=\"dataframe\">\n",
       "  <thead>\n",
       "    <tr style=\"text-align: right;\">\n",
       "      <th></th>\n",
       "      <th>00</th>\n",
       "      <th>000</th>\n",
       "      <th>000km</th>\n",
       "      <th>000mph</th>\n",
       "      <th>001m</th>\n",
       "      <th>00361445</th>\n",
       "      <th>01</th>\n",
       "      <th>01m</th>\n",
       "      <th>0210</th>\n",
       "      <th>029</th>\n",
       "      <th>...</th>\n",
       "      <th>zooming</th>\n",
       "      <th>zooniotic</th>\n",
       "      <th>zooniverse</th>\n",
       "      <th>zoonosis</th>\n",
       "      <th>zoonotic</th>\n",
       "      <th>zooplankton</th>\n",
       "      <th>zoos</th>\n",
       "      <th>zoosones</th>\n",
       "      <th>zygote</th>\n",
       "      <th>zygotes</th>\n",
       "    </tr>\n",
       "  </thead>\n",
       "  <tbody>\n",
       "    <tr>\n",
       "      <th>0</th>\n",
       "      <td>0</td>\n",
       "      <td>0</td>\n",
       "      <td>0</td>\n",
       "      <td>0</td>\n",
       "      <td>0</td>\n",
       "      <td>0</td>\n",
       "      <td>0</td>\n",
       "      <td>0</td>\n",
       "      <td>0</td>\n",
       "      <td>0</td>\n",
       "      <td>...</td>\n",
       "      <td>0</td>\n",
       "      <td>0</td>\n",
       "      <td>0</td>\n",
       "      <td>0</td>\n",
       "      <td>0</td>\n",
       "      <td>0</td>\n",
       "      <td>0</td>\n",
       "      <td>0</td>\n",
       "      <td>0</td>\n",
       "      <td>0</td>\n",
       "    </tr>\n",
       "    <tr>\n",
       "      <th>1</th>\n",
       "      <td>0</td>\n",
       "      <td>0</td>\n",
       "      <td>0</td>\n",
       "      <td>0</td>\n",
       "      <td>0</td>\n",
       "      <td>0</td>\n",
       "      <td>0</td>\n",
       "      <td>0</td>\n",
       "      <td>0</td>\n",
       "      <td>0</td>\n",
       "      <td>...</td>\n",
       "      <td>0</td>\n",
       "      <td>0</td>\n",
       "      <td>0</td>\n",
       "      <td>0</td>\n",
       "      <td>0</td>\n",
       "      <td>0</td>\n",
       "      <td>0</td>\n",
       "      <td>0</td>\n",
       "      <td>0</td>\n",
       "      <td>0</td>\n",
       "    </tr>\n",
       "    <tr>\n",
       "      <th>2</th>\n",
       "      <td>0</td>\n",
       "      <td>0</td>\n",
       "      <td>0</td>\n",
       "      <td>0</td>\n",
       "      <td>0</td>\n",
       "      <td>0</td>\n",
       "      <td>0</td>\n",
       "      <td>0</td>\n",
       "      <td>0</td>\n",
       "      <td>0</td>\n",
       "      <td>...</td>\n",
       "      <td>0</td>\n",
       "      <td>0</td>\n",
       "      <td>0</td>\n",
       "      <td>0</td>\n",
       "      <td>0</td>\n",
       "      <td>0</td>\n",
       "      <td>0</td>\n",
       "      <td>0</td>\n",
       "      <td>0</td>\n",
       "      <td>0</td>\n",
       "    </tr>\n",
       "    <tr>\n",
       "      <th>3</th>\n",
       "      <td>0</td>\n",
       "      <td>0</td>\n",
       "      <td>0</td>\n",
       "      <td>0</td>\n",
       "      <td>0</td>\n",
       "      <td>0</td>\n",
       "      <td>0</td>\n",
       "      <td>0</td>\n",
       "      <td>0</td>\n",
       "      <td>0</td>\n",
       "      <td>...</td>\n",
       "      <td>0</td>\n",
       "      <td>0</td>\n",
       "      <td>0</td>\n",
       "      <td>0</td>\n",
       "      <td>0</td>\n",
       "      <td>0</td>\n",
       "      <td>0</td>\n",
       "      <td>0</td>\n",
       "      <td>0</td>\n",
       "      <td>0</td>\n",
       "    </tr>\n",
       "    <tr>\n",
       "      <th>4</th>\n",
       "      <td>0</td>\n",
       "      <td>0</td>\n",
       "      <td>0</td>\n",
       "      <td>0</td>\n",
       "      <td>0</td>\n",
       "      <td>0</td>\n",
       "      <td>0</td>\n",
       "      <td>0</td>\n",
       "      <td>0</td>\n",
       "      <td>0</td>\n",
       "      <td>...</td>\n",
       "      <td>0</td>\n",
       "      <td>0</td>\n",
       "      <td>0</td>\n",
       "      <td>0</td>\n",
       "      <td>0</td>\n",
       "      <td>0</td>\n",
       "      <td>0</td>\n",
       "      <td>0</td>\n",
       "      <td>0</td>\n",
       "      <td>0</td>\n",
       "    </tr>\n",
       "  </tbody>\n",
       "</table>\n",
       "<p>5 rows × 15430 columns</p>\n",
       "</div>"
      ],
      "text/plain": [
       "   00  000  000km  000mph  001m  00361445  01  01m  0210  029  ...  zooming  \\\n",
       "0   0    0      0       0     0         0   0    0     0    0  ...        0   \n",
       "1   0    0      0       0     0         0   0    0     0    0  ...        0   \n",
       "2   0    0      0       0     0         0   0    0     0    0  ...        0   \n",
       "3   0    0      0       0     0         0   0    0     0    0  ...        0   \n",
       "4   0    0      0       0     0         0   0    0     0    0  ...        0   \n",
       "\n",
       "   zooniotic  zooniverse  zoonosis  zoonotic  zooplankton  zoos  zoosones  \\\n",
       "0          0           0         0         0            0     0         0   \n",
       "1          0           0         0         0            0     0         0   \n",
       "2          0           0         0         0            0     0         0   \n",
       "3          0           0         0         0            0     0         0   \n",
       "4          0           0         0         0            0     0         0   \n",
       "\n",
       "   zygote  zygotes  \n",
       "0       0        0  \n",
       "1       0        0  \n",
       "2       0        0  \n",
       "3       0        0  \n",
       "4       0        0  \n",
       "\n",
       "[5 rows x 15430 columns]"
      ]
     },
     "execution_count": 6,
     "metadata": {},
     "output_type": "execute_result"
    }
   ],
   "source": [
    "# turn the transformed objects back in to dataframes\n",
    "word_counts = pd.DataFrame(word_counts.toarray(), columns = cvec.get_feature_names())\n",
    "shitty_word_counts = pd.DataFrame(shitty_word_counts.toarray(), columns = shitty_cvec.get_feature_names())\n",
    "\n",
    "# take a quick gander\n",
    "word_counts.head()"
   ]
  },
  {
   "cell_type": "code",
   "execution_count": 7,
   "metadata": {},
   "outputs": [],
   "source": [
    "# finding the most common shared words between subreddits\n",
    "\n",
    "high_use = word_counts.sum().sort_values(ascending = False).head(100)\n",
    "shitty_high_use = shitty_word_counts.sum().sort_values(ascending = False).head(100)\n",
    "\n",
    "# make a list of shared high-use words in both subreddits for custom stopwords,\n",
    "# but only if their usage frequencies have a percent difference of less than 20%\n",
    "custom_stop_words = [i for i in high_use.index if i in shitty_high_use.index\n",
    "                     and (np.abs(word_counts[i].value_counts()[1] - shitty_word_counts[i].value_counts()[1]) /\n",
    "                     ((word_counts[i].value_counts()[1] + shitty_word_counts[i].value_counts()[1]) / 2))\n",
    "                     < .2]"
   ]
  },
  {
   "cell_type": "code",
   "execution_count": 8,
   "metadata": {},
   "outputs": [
    {
     "data": {
      "image/png": "[encoded data removed]",
      "text/plain": [
       "<Figure size 1080x432 with 2 Axes>"
      ]
     },
     "metadata": {
      "needs_background": "light"
     },
     "output_type": "display_data"
    }
   ],
   "source": [
    "# plot our new corpus-specific stopwords\n",
    "\n",
    "plt.figure(figsize = (15, 6))\n",
    "\n",
    "ax1 = plt.subplot(121)\n",
    "sns.barplot(high_use[custom_stop_words], high_use[custom_stop_words].index)\n",
    "plt.title('Counts of Shared Most Common Words\\nr/askscience', fontdict={'fontsize': 16})\n",
    "\n",
    "ax2 = plt.subplot(122, sharex=ax1)\n",
    "sns.barplot(shitty_high_use[custom_stop_words], shitty_high_use[custom_stop_words].index)\n",
    "plt.title('Counts of Shared Most Common Words\\nr/shittyaskscience', fontdict={'fontsize': 16});\n",
    "\n",
    "plt.savefig('./figures/custom_stop_words.jpeg')"
   ]
  },
  {
   "cell_type": "markdown",
   "metadata": {},
   "source": [
    "The CountVectorizer documentation warns about using custom stop words, as they will not be subjected to the vectorizer's internal preprocessing steps. All stop words need to be stemmed manually and appended to a master list of stop words for thorough testing."
   ]
  },
  {
   "cell_type": "code",
   "execution_count": 9,
   "metadata": {},
   "outputs": [],
   "source": [
    "# initialize list for all stopwords\n",
    "all_the_stops = []\n",
    "\n",
    "# fill it with the unstemmed custom_stop_words\n",
    "all_the_stops.extend(custom_stop_words)\n",
    "\n",
    "# initialize stemmer, stem custom_stop_words, append them to all_the_stops\n",
    "stem = PorterStemmer()\n",
    "stem_stop_words = [stem.stem(i) for i in custom_stop_words]\n",
    "all_the_stops.extend(stem_stop_words)\n",
    "\n",
    "# add the default NLTK stopwords to all_the_stops\n",
    "nltk_stopwords = stopwords.words('english')\n",
    "all_the_stops.extend(nltk_stopwords)\n",
    "\n",
    "# stem the default NLTK stopwords and append them to all_the_stops\n",
    "stem_nltk_stopwords = [stem.stem(i) for i in nltk_stopwords]\n",
    "all_the_stops.extend(stem_nltk_stopwords)"
   ]
  },
  {
   "cell_type": "markdown",
   "metadata": {},
   "source": [
    "### Word Counts"
   ]
  },
  {
   "cell_type": "code",
   "execution_count": 10,
   "metadata": {},
   "outputs": [
    {
     "data": {
      "image/png": "[encoded data removed]",
      "text/plain": [
       "<Figure size 1080x432 with 2 Axes>"
      ]
     },
     "metadata": {
      "needs_background": "light"
     },
     "output_type": "display_data"
    }
   ],
   "source": [
    "# plots of word counts after removing custom_stop_words\n",
    "\n",
    "plt.figure(figsize = (15, 6))\n",
    "\n",
    "ax1 = plt.subplot(121)\n",
    "sns.barplot(high_use.drop(custom_stop_words).head(20), high_use.drop(custom_stop_words).head(20).index)\n",
    "plt.title('Counts of Most Common Words\\nr/askscience', fontdict={'fontsize': 16})\n",
    "\n",
    "ax2 = plt.subplot(122, sharex=ax1)\n",
    "sns.barplot(shitty_high_use.drop(custom_stop_words).head(20), shitty_high_use.drop(custom_stop_words).head(20).index)\n",
    "plt.title('Counts of Most Common Words\\nr/shittyaskscience', fontdict={'fontsize': 16});\n",
    "\n",
    "plt.savefig('./figures/common_words.jpeg')"
   ]
  },
  {
   "cell_type": "markdown",
   "metadata": {},
   "source": [
    "## Modeling\n",
    "---\n",
    "\n",
    "Note: GridSearch hyperparameters in all models have been weened to reasonable subsets of original testing values."
   ]
  },
  {
   "cell_type": "markdown",
   "metadata": {},
   "source": [
    "### Functions for Models"
   ]
  },
  {
   "cell_type": "markdown",
   "metadata": {},
   "source": [
    "With the right parameters, CountVectorizer can implement many different preprocessing steps. For instance, this data is loaded with numbers and non-ASCII characters that should be removed, and CountVectorizer can do that. Models should also be tested with stemmed tokens, and that can be accomplished with a tiny function passed to CountVectorizer. Lemmatizing proved fruitless."
   ]
  },
  {
   "cell_type": "code",
   "execution_count": 11,
   "metadata": {},
   "outputs": [],
   "source": [
    "# stemmer\n",
    "def cv_stemmer(word):\n",
    "    stem = PorterStemmer()\n",
    "    return stem.stem(word)\n",
    "\n",
    "# DenseTransformer from Brendan McDonnell and http://zacstewart.com/2014/08/05/pipelines-of-featureunions-of-pipelines.html\n",
    "class DenseTransformer(TransformerMixin):\n",
    "\n",
    "    def fit(self, X, y=None, **fit_params):\n",
    "        return self\n",
    "\n",
    "    def transform(self, X, y=None, **fit_params):\n",
    "        return X.todense()\n",
    "\n",
    "# regex pattern to nix numbers\n",
    "only_words_token_pattern = '[a-zA-Z]{2,}'\n",
    "\n",
    "# metrics\n",
    "def get_scores(model, X_train, X_test):\n",
    "    \n",
    "    # confusion matrix, sensitivity, specificity\n",
    "    train_preds = model.predict(X_train)\n",
    "    preds = model.predict(X_test)\n",
    "    cm = confusion_matrix(y_test, preds)\n",
    "    tn, fp, fn, tp = cm.ravel()\n",
    "    sens = tp / (tp + fn)\n",
    "    spec = tn / (tn + fp)\n",
    "    \n",
    "    # scores\n",
    "    print('Training Accuracy:', round(cross_val_score(model, X_train, y_train).mean(), 5))\n",
    "    print('Testing Accuracy:', round(model.score(X_test, y_test), 5))\n",
    "    print('Sensitivity:', round(sens, 5))\n",
    "    print('Specificity:', round(spec, 5))\n",
    "    \n",
    "    # ROC curve\n",
    "    plt.figure()\n",
    "    plot_roc_curve(model, X_test, y_test)\n",
    "    plt.title('ROC Curve', fontdict={'fontsize': 16})\n",
    "    plt.plot([0,1], [0,1])\n",
    "    \n",
    "    return pd.DataFrame(cm, columns=['Actual Negative', 'Actual Positive'], index=['Predicted Negative', 'Predicted Positive'])"
   ]
  },
  {
   "cell_type": "markdown",
   "metadata": {},
   "source": [
    "### Binarize Target, Base Model, train_test_split"
   ]
  },
  {
   "cell_type": "code",
   "execution_count": 12,
   "metadata": {},
   "outputs": [
    {
     "data": {
      "text/plain": [
       "0    0.520828\n",
       "1    0.479172\n",
       "Name: subreddit, dtype: float64"
      ]
     },
     "execution_count": 12,
     "metadata": {},
     "output_type": "execute_result"
    }
   ],
   "source": [
    "# posts from r/askscience will represent the positive class\n",
    "df.replace({'askscience': 1, 'shittyaskscience': 0}, inplace=True)\n",
    "\n",
    "# check target balance\n",
    "df['subreddit'].value_counts(normalize=True)"
   ]
  },
  {
   "cell_type": "code",
   "execution_count": 13,
   "metadata": {},
   "outputs": [],
   "source": [
    "# train test split data\n",
    "X = df['title']\n",
    "y = df['subreddit']\n",
    "\n",
    "X_train, X_test, y_train, y_test = train_test_split(X, y, random_state=42)"
   ]
  },
  {
   "cell_type": "markdown",
   "metadata": {},
   "source": [
    "### K-Nearest Neighbors"
   ]
  },
  {
   "cell_type": "code",
   "execution_count": 14,
   "metadata": {},
   "outputs": [
    {
     "name": "stdout",
     "output_type": "stream",
     "text": [
      "{'cvec__max_features': 4500, 'cvec__stop_words': ['like', 'people', 'time', 'one', 'much', 'long', 'someone', 'use', 'know', 'see', 'space', 'able', 'since', 'around', 'new', 'become', 'science', 'years', 'like', 'peopl', 'time', 'one', 'much', 'long', 'someon', 'use', 'know', 'see', 'space', 'abl', 'sinc', 'around', 'new', 'becom', 'scienc', 'year', 'i', 'me', 'my', 'myself', 'we', 'our', 'ours', 'ourselves', 'you', \"you're\", \"you've\", \"you'll\", \"you'd\", 'your', 'yours', 'yourself', 'yourselves', 'he', 'him', 'his', 'himself', 'she', \"she's\", 'her', 'hers', 'herself', 'it', \"it's\", 'its', 'itself', 'they', 'them', 'their', 'theirs', 'themselves', 'what', 'which', 'who', 'whom', 'this', 'that', \"that'll\", 'these', 'those', 'am', 'is', 'are', 'was', 'were', 'be', 'been', 'being', 'have', 'has', 'had', 'having', 'do', 'does', 'did', 'doing', 'a', 'an', 'the', 'and', 'but', 'if', 'or', 'because', 'as', 'until', 'while', 'of', 'at', 'by', 'for', 'with', 'about', 'against', 'between', 'into', 'through', 'during', 'before', 'after', 'above', 'below', 'to', 'from', 'up', 'down', 'in', 'out', 'on', 'off', 'over', 'under', 'again', 'further', 'then', 'once', 'here', 'there', 'when', 'where', 'why', 'how', 'all', 'any', 'both', 'each', 'few', 'more', 'most', 'other', 'some', 'such', 'no', 'nor', 'not', 'only', 'own', 'same', 'so', 'than', 'too', 'very', 's', 't', 'can', 'will', 'just', 'don', \"don't\", 'should', \"should've\", 'now', 'd', 'll', 'm', 'o', 're', 've', 'y', 'ain', 'aren', \"aren't\", 'couldn', \"couldn't\", 'didn', \"didn't\", 'doesn', \"doesn't\", 'hadn', \"hadn't\", 'hasn', \"hasn't\", 'haven', \"haven't\", 'isn', \"isn't\", 'ma', 'mightn', \"mightn't\", 'mustn', \"mustn't\", 'needn', \"needn't\", 'shan', \"shan't\", 'shouldn', \"shouldn't\", 'wasn', \"wasn't\", 'weren', \"weren't\", 'won', \"won't\", 'wouldn', \"wouldn't\", 'i', 'me', 'my', 'myself', 'we', 'our', 'our', 'ourselv', 'you', \"you'r\", \"you'v\", \"you'll\", \"you'd\", 'your', 'your', 'yourself', 'yourselv', 'he', 'him', 'hi', 'himself', 'she', \"she'\", 'her', 'her', 'herself', 'it', \"it'\", 'it', 'itself', 'they', 'them', 'their', 'their', 'themselv', 'what', 'which', 'who', 'whom', 'thi', 'that', \"that'll\", 'these', 'those', 'am', 'is', 'are', 'wa', 'were', 'be', 'been', 'be', 'have', 'ha', 'had', 'have', 'do', 'doe', 'did', 'do', 'a', 'an', 'the', 'and', 'but', 'if', 'or', 'becaus', 'as', 'until', 'while', 'of', 'at', 'by', 'for', 'with', 'about', 'against', 'between', 'into', 'through', 'dure', 'befor', 'after', 'abov', 'below', 'to', 'from', 'up', 'down', 'in', 'out', 'on', 'off', 'over', 'under', 'again', 'further', 'then', 'onc', 'here', 'there', 'when', 'where', 'whi', 'how', 'all', 'ani', 'both', 'each', 'few', 'more', 'most', 'other', 'some', 'such', 'no', 'nor', 'not', 'onli', 'own', 'same', 'so', 'than', 'too', 'veri', 's', 't', 'can', 'will', 'just', 'don', \"don't\", 'should', \"should'v\", 'now', 'd', 'll', 'm', 'o', 're', 've', 'y', 'ain', 'aren', \"aren't\", 'couldn', \"couldn't\", 'didn', \"didn't\", 'doesn', \"doesn't\", 'hadn', \"hadn't\", 'hasn', \"hasn't\", 'haven', \"haven't\", 'isn', \"isn't\", 'ma', 'mightn', \"mightn't\", 'mustn', \"mustn't\", 'needn', \"needn't\", 'shan', \"shan't\", 'shouldn', \"shouldn't\", 'wasn', \"wasn't\", 'weren', \"weren't\", 'won', \"won't\", 'wouldn', \"wouldn't\"], 'cvec__strip_accents': 'ascii'}\n",
      "Training Accuracy: 0.6643\n",
      "Testing Accuracy: 0.67138\n",
      "Sensitivity: 0.37622\n",
      "Specificity: 0.94896\n"
     ]
    },
    {
     "data": {
      "text/html": [
       "<div>\n",
       "<style scoped>\n",
       "    .dataframe tbody tr th:only-of-type {\n",
       "        vertical-align: middle;\n",
       "    }\n",
       "\n",
       "    .dataframe tbody tr th {\n",
       "        vertical-align: top;\n",
       "    }\n",
       "\n",
       "    .dataframe thead th {\n",
       "        text-align: right;\n",
       "    }\n",
       "</style>\n",
       "<table border=\"1\" class=\"dataframe\">\n",
       "  <thead>\n",
       "    <tr style=\"text-align: right;\">\n",
       "      <th></th>\n",
       "      <th>Actual Negative</th>\n",
       "      <th>Actual Positive</th>\n",
       "    </tr>\n",
       "  </thead>\n",
       "  <tbody>\n",
       "    <tr>\n",
       "      <th>Predicted Negative</th>\n",
       "      <td>4667</td>\n",
       "      <td>251</td>\n",
       "    </tr>\n",
       "    <tr>\n",
       "      <th>Predicted Positive</th>\n",
       "      <td>2885</td>\n",
       "      <td>1740</td>\n",
       "    </tr>\n",
       "  </tbody>\n",
       "</table>\n",
       "</div>"
      ],
      "text/plain": [
       "                    Actual Negative  Actual Positive\n",
       "Predicted Negative             4667              251\n",
       "Predicted Positive             2885             1740"
      ]
     },
     "execution_count": 14,
     "metadata": {},
     "output_type": "execute_result"
    },
    {
     "data": {
      "text/plain": [
       "<Figure size 432x288 with 0 Axes>"
      ]
     },
     "metadata": {},
     "output_type": "display_data"
    },
    {
     "data": {
      "image/png": "[encoded data removed]",
      "text/plain": [
       "<Figure size 432x288 with 1 Axes>"
      ]
     },
     "metadata": {
      "needs_background": "light"
     },
     "output_type": "display_data"
    }
   ],
   "source": [
    "knn_pipe = Pipeline([\n",
    "    ('cvec', CountVectorizer()),\n",
    "    ('knn', KNeighborsClassifier())\n",
    "])\n",
    "\n",
    "knn_params = {\n",
    "    'cvec__strip_accents': ['ascii'],\n",
    "    'cvec__stop_words': [all_the_stops],\n",
    "    'cvec__max_features': [4500],\n",
    "}\n",
    "\n",
    "gs_knn = GridSearchCV(knn_pipe, knn_params, n_jobs = 4, cv = 5)\n",
    "gs_knn.fit(X_train, y_train)\n",
    "\n",
    "print(gs_knn.best_params_)\n",
    "get_scores(gs_knn.best_estimator_, X_train, X_test)"
   ]
  },
  {
   "cell_type": "markdown",
   "metadata": {},
   "source": [
    "### Multinomial Naive Bayes with CountVectorizer"
   ]
  },
  {
   "cell_type": "code",
   "execution_count": 15,
   "metadata": {},
   "outputs": [
    {
     "name": "stdout",
     "output_type": "stream",
     "text": [
      "{'cvec__max_features': 7300, 'cvec__preprocessor': <function cv_stemmer at 0x000001E4D6402708>, 'cvec__strip_accents': 'ascii', 'cvec__token_pattern': '[a-zA-Z]{2,}'}\n",
      "Training Accuracy: 0.82321\n",
      "Testing Accuracy: 0.82113\n",
      "Sensitivity: 0.77449\n",
      "Specificity: 0.86499\n"
     ]
    },
    {
     "data": {
      "text/html": [
       "<div>\n",
       "<style scoped>\n",
       "    .dataframe tbody tr th:only-of-type {\n",
       "        vertical-align: middle;\n",
       "    }\n",
       "\n",
       "    .dataframe tbody tr th {\n",
       "        vertical-align: top;\n",
       "    }\n",
       "\n",
       "    .dataframe thead th {\n",
       "        text-align: right;\n",
       "    }\n",
       "</style>\n",
       "<table border=\"1\" class=\"dataframe\">\n",
       "  <thead>\n",
       "    <tr style=\"text-align: right;\">\n",
       "      <th></th>\n",
       "      <th>Actual Negative</th>\n",
       "      <th>Actual Positive</th>\n",
       "    </tr>\n",
       "  </thead>\n",
       "  <tbody>\n",
       "    <tr>\n",
       "      <th>Predicted Negative</th>\n",
       "      <td>4254</td>\n",
       "      <td>664</td>\n",
       "    </tr>\n",
       "    <tr>\n",
       "      <th>Predicted Positive</th>\n",
       "      <td>1043</td>\n",
       "      <td>3582</td>\n",
       "    </tr>\n",
       "  </tbody>\n",
       "</table>\n",
       "</div>"
      ],
      "text/plain": [
       "                    Actual Negative  Actual Positive\n",
       "Predicted Negative             4254              664\n",
       "Predicted Positive             1043             3582"
      ]
     },
     "execution_count": 15,
     "metadata": {},
     "output_type": "execute_result"
    },
    {
     "data": {
      "text/plain": [
       "<Figure size 432x288 with 0 Axes>"
      ]
     },
     "metadata": {},
     "output_type": "display_data"
    },
    {
     "data": {
      "image/png": "[encoded data removed]",
      "text/plain": [
       "<Figure size 432x288 with 1 Axes>"
      ]
     },
     "metadata": {
      "needs_background": "light"
     },
     "output_type": "display_data"
    }
   ],
   "source": [
    "mnb_pipe = Pipeline([\n",
    "    ('cvec', CountVectorizer()),\n",
    "    ('mnb', MultinomialNB())\n",
    "])\n",
    "\n",
    "mnb_params = {\n",
    "    'cvec__strip_accents': ['ascii'],\n",
    "    'cvec__preprocessor': [cv_stemmer],\n",
    "    'cvec__token_pattern': [only_words_token_pattern],\n",
    "    'cvec__max_features': [7300],\n",
    "}\n",
    "\n",
    "gs_mnb = GridSearchCV(mnb_pipe, mnb_params, n_jobs = -1, cv = 5)\n",
    "gs_mnb.fit(X_train, y_train)\n",
    "\n",
    "print(gs_mnb.best_params_)\n",
    "get_scores(gs_mnb.best_estimator_, X_train, X_test)"
   ]
  },
  {
   "cell_type": "markdown",
   "metadata": {},
   "source": [
    "### Gaussian Naive Bayes with TfidfVectorizer"
   ]
  },
  {
   "cell_type": "code",
   "execution_count": 16,
   "metadata": {},
   "outputs": [
    {
     "name": "stdout",
     "output_type": "stream",
     "text": [
      "{'tvec__max_features': 4300, 'tvec__preprocessor': <function cv_stemmer at 0x000001E4D6402708>, 'tvec__strip_accents': 'ascii'}\n",
      "Training Accuracy: 0.75327\n",
      "Testing Accuracy: 0.75972\n",
      "Sensitivity: 0.64995\n",
      "Specificity: 0.86295\n"
     ]
    },
    {
     "data": {
      "text/html": [
       "<div>\n",
       "<style scoped>\n",
       "    .dataframe tbody tr th:only-of-type {\n",
       "        vertical-align: middle;\n",
       "    }\n",
       "\n",
       "    .dataframe tbody tr th {\n",
       "        vertical-align: top;\n",
       "    }\n",
       "\n",
       "    .dataframe thead th {\n",
       "        text-align: right;\n",
       "    }\n",
       "</style>\n",
       "<table border=\"1\" class=\"dataframe\">\n",
       "  <thead>\n",
       "    <tr style=\"text-align: right;\">\n",
       "      <th></th>\n",
       "      <th>Actual Negative</th>\n",
       "      <th>Actual Positive</th>\n",
       "    </tr>\n",
       "  </thead>\n",
       "  <tbody>\n",
       "    <tr>\n",
       "      <th>Predicted Negative</th>\n",
       "      <td>4244</td>\n",
       "      <td>674</td>\n",
       "    </tr>\n",
       "    <tr>\n",
       "      <th>Predicted Positive</th>\n",
       "      <td>1619</td>\n",
       "      <td>3006</td>\n",
       "    </tr>\n",
       "  </tbody>\n",
       "</table>\n",
       "</div>"
      ],
      "text/plain": [
       "                    Actual Negative  Actual Positive\n",
       "Predicted Negative             4244              674\n",
       "Predicted Positive             1619             3006"
      ]
     },
     "execution_count": 16,
     "metadata": {},
     "output_type": "execute_result"
    },
    {
     "data": {
      "text/plain": [
       "<Figure size 432x288 with 0 Axes>"
      ]
     },
     "metadata": {},
     "output_type": "display_data"
    },
    {
     "data": {
      "image/png": "[encoded data removed]",
      "text/plain": [
       "<Figure size 432x288 with 1 Axes>"
      ]
     },
     "metadata": {
      "needs_background": "light"
     },
     "output_type": "display_data"
    }
   ],
   "source": [
    "gnb_pipe = Pipeline([\n",
    "    ('tvec', TfidfVectorizer()),\n",
    "    ('dt', DenseTransformer()),\n",
    "    ('gnb', GaussianNB())\n",
    "])\n",
    "\n",
    "gnb_params = {\n",
    "    'tvec__strip_accents': ['ascii'],\n",
    "    'tvec__preprocessor': [cv_stemmer],\n",
    "    'tvec__max_features': [4300],\n",
    "}\n",
    "\n",
    "gs_gnb = GridSearchCV(gnb_pipe, gnb_params, n_jobs = 4, cv = 5)\n",
    "gs_gnb.fit(X_train, y_train)\n",
    "\n",
    "print(gs_gnb.best_params_)\n",
    "get_scores(gs_gnb.best_estimator_, X_train, X_test)"
   ]
  },
  {
   "cell_type": "markdown",
   "metadata": {},
   "source": [
    "### Complement Naive Bayes with CountVectorizer"
   ]
  },
  {
   "cell_type": "code",
   "execution_count": 17,
   "metadata": {},
   "outputs": [
    {
     "name": "stdout",
     "output_type": "stream",
     "text": [
      "{'cvec__max_features': 10000, 'cvec__preprocessor': <function cv_stemmer at 0x000001E4D6402708>, 'cvec__strip_accents': 'ascii'}\n",
      "Training Accuracy: 0.8245\n",
      "Testing Accuracy: 0.82364\n",
      "Sensitivity: 0.78292\n",
      "Specificity: 0.86194\n"
     ]
    },
    {
     "data": {
      "text/html": [
       "<div>\n",
       "<style scoped>\n",
       "    .dataframe tbody tr th:only-of-type {\n",
       "        vertical-align: middle;\n",
       "    }\n",
       "\n",
       "    .dataframe tbody tr th {\n",
       "        vertical-align: top;\n",
       "    }\n",
       "\n",
       "    .dataframe thead th {\n",
       "        text-align: right;\n",
       "    }\n",
       "</style>\n",
       "<table border=\"1\" class=\"dataframe\">\n",
       "  <thead>\n",
       "    <tr style=\"text-align: right;\">\n",
       "      <th></th>\n",
       "      <th>Actual Negative</th>\n",
       "      <th>Actual Positive</th>\n",
       "    </tr>\n",
       "  </thead>\n",
       "  <tbody>\n",
       "    <tr>\n",
       "      <th>Predicted Negative</th>\n",
       "      <td>4239</td>\n",
       "      <td>679</td>\n",
       "    </tr>\n",
       "    <tr>\n",
       "      <th>Predicted Positive</th>\n",
       "      <td>1004</td>\n",
       "      <td>3621</td>\n",
       "    </tr>\n",
       "  </tbody>\n",
       "</table>\n",
       "</div>"
      ],
      "text/plain": [
       "                    Actual Negative  Actual Positive\n",
       "Predicted Negative             4239              679\n",
       "Predicted Positive             1004             3621"
      ]
     },
     "execution_count": 17,
     "metadata": {},
     "output_type": "execute_result"
    },
    {
     "data": {
      "text/plain": [
       "<Figure size 432x288 with 0 Axes>"
      ]
     },
     "metadata": {},
     "output_type": "display_data"
    },
    {
     "data": {
      "image/png": "[encoded data removed]",
      "text/plain": [
       "<Figure size 432x288 with 1 Axes>"
      ]
     },
     "metadata": {
      "needs_background": "light"
     },
     "output_type": "display_data"
    }
   ],
   "source": [
    "cnb_pipe = Pipeline([\n",
    "    ('cvec', CountVectorizer()),\n",
    "    ('cnb', ComplementNB())\n",
    "])\n",
    "\n",
    "cnb_params = {\n",
    "    'cvec__strip_accents': ['ascii'],\n",
    "    'cvec__preprocessor': [cv_stemmer],\n",
    "    'cvec__max_features': [10000],\n",
    "}\n",
    "\n",
    "gs_cnb = GridSearchCV(cnb_pipe, cnb_params, n_jobs = -1, cv = 5)\n",
    "gs_cnb.fit(X_train, y_train)\n",
    "\n",
    "print(gs_cnb.best_params_)\n",
    "get_scores(gs_cnb.best_estimator_, X_train, X_test)"
   ]
  },
  {
   "cell_type": "markdown",
   "metadata": {},
   "source": [
    "### Logistic Regression with TfidfVectorizer"
   ]
  },
  {
   "cell_type": "code",
   "execution_count": 18,
   "metadata": {},
   "outputs": [
    {
     "name": "stdout",
     "output_type": "stream",
     "text": [
      "{'tvec__max_features': 7300, 'tvec__preprocessor': <function cv_stemmer at 0x000001E4D6402708>, 'tvec__strip_accents': 'ascii'}\n",
      "Training Accuracy: 0.82544\n",
      "Testing Accuracy: 0.82783\n",
      "Sensitivity: 0.79503\n",
      "Specificity: 0.85868\n"
     ]
    },
    {
     "data": {
      "text/html": [
       "<div>\n",
       "<style scoped>\n",
       "    .dataframe tbody tr th:only-of-type {\n",
       "        vertical-align: middle;\n",
       "    }\n",
       "\n",
       "    .dataframe tbody tr th {\n",
       "        vertical-align: top;\n",
       "    }\n",
       "\n",
       "    .dataframe thead th {\n",
       "        text-align: right;\n",
       "    }\n",
       "</style>\n",
       "<table border=\"1\" class=\"dataframe\">\n",
       "  <thead>\n",
       "    <tr style=\"text-align: right;\">\n",
       "      <th></th>\n",
       "      <th>Actual Negative</th>\n",
       "      <th>Actual Positive</th>\n",
       "    </tr>\n",
       "  </thead>\n",
       "  <tbody>\n",
       "    <tr>\n",
       "      <th>Predicted Negative</th>\n",
       "      <td>4223</td>\n",
       "      <td>695</td>\n",
       "    </tr>\n",
       "    <tr>\n",
       "      <th>Predicted Positive</th>\n",
       "      <td>948</td>\n",
       "      <td>3677</td>\n",
       "    </tr>\n",
       "  </tbody>\n",
       "</table>\n",
       "</div>"
      ],
      "text/plain": [
       "                    Actual Negative  Actual Positive\n",
       "Predicted Negative             4223              695\n",
       "Predicted Positive              948             3677"
      ]
     },
     "execution_count": 18,
     "metadata": {},
     "output_type": "execute_result"
    },
    {
     "data": {
      "text/plain": [
       "<Figure size 432x288 with 0 Axes>"
      ]
     },
     "metadata": {},
     "output_type": "display_data"
    },
    {
     "data": {
      "image/png": "[encoded data removed]",
      "text/plain": [
       "<Figure size 432x288 with 1 Axes>"
      ]
     },
     "metadata": {
      "needs_background": "light"
     },
     "output_type": "display_data"
    }
   ],
   "source": [
    "lr_pipe_tvec = Pipeline([\n",
    "    ('tvec', TfidfVectorizer()),\n",
    "    ('lr', LogisticRegression())\n",
    "])\n",
    "\n",
    "lr_params_tvec = {\n",
    "    'tvec__strip_accents': ['ascii'],\n",
    "    'tvec__preprocessor': [cv_stemmer],\n",
    "    'tvec__max_features': [7300],\n",
    "}\n",
    "\n",
    "gs_lr_tvec = GridSearchCV(lr_pipe_tvec, lr_params_tvec, n_jobs = -1, cv = 5)\n",
    "gs_lr_tvec.fit(X_train, y_train)\n",
    "\n",
    "print(gs_lr_tvec.best_params_)\n",
    "get_scores(gs_lr_tvec.best_estimator_, X_train, X_test)"
   ]
  },
  {
   "cell_type": "markdown",
   "metadata": {},
   "source": [
    "### Ridge Classifier"
   ]
  },
  {
   "cell_type": "code",
   "execution_count": 19,
   "metadata": {},
   "outputs": [
    {
     "name": "stdout",
     "output_type": "stream",
     "text": [
      "{'tvec__max_features': 9000, 'tvec__preprocessor': <function cv_stemmer at 0x000001E4D6402708>, 'tvec__strip_accents': 'ascii', 'tvec__token_pattern': '[a-zA-Z]{2,}'}\n",
      "Training Accuracy: 0.82625\n",
      "Testing Accuracy: 0.82815\n",
      "Sensitivity: 0.80043\n",
      "Specificity: 0.85421\n"
     ]
    },
    {
     "data": {
      "text/html": [
       "<div>\n",
       "<style scoped>\n",
       "    .dataframe tbody tr th:only-of-type {\n",
       "        vertical-align: middle;\n",
       "    }\n",
       "\n",
       "    .dataframe tbody tr th {\n",
       "        vertical-align: top;\n",
       "    }\n",
       "\n",
       "    .dataframe thead th {\n",
       "        text-align: right;\n",
       "    }\n",
       "</style>\n",
       "<table border=\"1\" class=\"dataframe\">\n",
       "  <thead>\n",
       "    <tr style=\"text-align: right;\">\n",
       "      <th></th>\n",
       "      <th>Actual Negative</th>\n",
       "      <th>Actual Positive</th>\n",
       "    </tr>\n",
       "  </thead>\n",
       "  <tbody>\n",
       "    <tr>\n",
       "      <th>Predicted Negative</th>\n",
       "      <td>4201</td>\n",
       "      <td>717</td>\n",
       "    </tr>\n",
       "    <tr>\n",
       "      <th>Predicted Positive</th>\n",
       "      <td>923</td>\n",
       "      <td>3702</td>\n",
       "    </tr>\n",
       "  </tbody>\n",
       "</table>\n",
       "</div>"
      ],
      "text/plain": [
       "                    Actual Negative  Actual Positive\n",
       "Predicted Negative             4201              717\n",
       "Predicted Positive              923             3702"
      ]
     },
     "execution_count": 19,
     "metadata": {},
     "output_type": "execute_result"
    },
    {
     "data": {
      "text/plain": [
       "<Figure size 432x288 with 0 Axes>"
      ]
     },
     "metadata": {},
     "output_type": "display_data"
    },
    {
     "data": {
      "image/png": "[encoded data removed]",
      "text/plain": [
       "<Figure size 432x288 with 1 Axes>"
      ]
     },
     "metadata": {
      "needs_background": "light"
     },
     "output_type": "display_data"
    }
   ],
   "source": [
    "ridge_pipe = Pipeline([\n",
    "    ('tvec', TfidfVectorizer()),\n",
    "    ('ridge', RidgeClassifier())\n",
    "])\n",
    "\n",
    "ridge_params = {\n",
    "    'tvec__strip_accents': ['ascii'],\n",
    "    'tvec__preprocessor': [cv_stemmer],   \n",
    "    'tvec__token_pattern': [only_words_token_pattern],\n",
    "    'tvec__max_features': [9000],\n",
    "}\n",
    "\n",
    "gs_ridge = GridSearchCV(ridge_pipe, ridge_params, n_jobs = -1, cv = 5)\n",
    "gs_ridge.fit(X_train, y_train)\n",
    "\n",
    "print(gs_ridge.best_params_)\n",
    "get_scores(gs_ridge.best_estimator_, X_train, X_test)"
   ]
  },
  {
   "cell_type": "markdown",
   "metadata": {},
   "source": [
    "### Perceptron"
   ]
  },
  {
   "cell_type": "code",
   "execution_count": 20,
   "metadata": {},
   "outputs": [
    {
     "name": "stdout",
     "output_type": "stream",
     "text": [
      "{'perceptron__penalty': None, 'tvec__max_features': 7000, 'tvec__preprocessor': <function cv_stemmer at 0x000001E4D6402708>, 'tvec__strip_accents': 'ascii'}\n",
      "Training Accuracy: 0.78077\n",
      "Testing Accuracy: 0.78717\n",
      "Sensitivity: 0.76238\n",
      "Specificity: 0.81049\n"
     ]
    },
    {
     "data": {
      "text/html": [
       "<div>\n",
       "<style scoped>\n",
       "    .dataframe tbody tr th:only-of-type {\n",
       "        vertical-align: middle;\n",
       "    }\n",
       "\n",
       "    .dataframe tbody tr th {\n",
       "        vertical-align: top;\n",
       "    }\n",
       "\n",
       "    .dataframe thead th {\n",
       "        text-align: right;\n",
       "    }\n",
       "</style>\n",
       "<table border=\"1\" class=\"dataframe\">\n",
       "  <thead>\n",
       "    <tr style=\"text-align: right;\">\n",
       "      <th></th>\n",
       "      <th>Actual Negative</th>\n",
       "      <th>Actual Positive</th>\n",
       "    </tr>\n",
       "  </thead>\n",
       "  <tbody>\n",
       "    <tr>\n",
       "      <th>Predicted Negative</th>\n",
       "      <td>3986</td>\n",
       "      <td>932</td>\n",
       "    </tr>\n",
       "    <tr>\n",
       "      <th>Predicted Positive</th>\n",
       "      <td>1099</td>\n",
       "      <td>3526</td>\n",
       "    </tr>\n",
       "  </tbody>\n",
       "</table>\n",
       "</div>"
      ],
      "text/plain": [
       "                    Actual Negative  Actual Positive\n",
       "Predicted Negative             3986              932\n",
       "Predicted Positive             1099             3526"
      ]
     },
     "execution_count": 20,
     "metadata": {},
     "output_type": "execute_result"
    },
    {
     "data": {
      "text/plain": [
       "<Figure size 432x288 with 0 Axes>"
      ]
     },
     "metadata": {},
     "output_type": "display_data"
    },
    {
     "data": {
      "image/png": "[encoded data removed]",
      "text/plain": [
       "<Figure size 432x288 with 1 Axes>"
      ]
     },
     "metadata": {
      "needs_background": "light"
     },
     "output_type": "display_data"
    }
   ],
   "source": [
    "perceptron_pipe = Pipeline([\n",
    "    ('tvec', TfidfVectorizer()),\n",
    "    ('perceptron', Perceptron())\n",
    "])\n",
    "\n",
    "perceptron_params = {\n",
    "    'tvec__strip_accents': ['ascii'],\n",
    "    'tvec__preprocessor': [cv_stemmer],    \n",
    "    'tvec__max_features': [7000],\n",
    "    'perceptron__penalty': [None]\n",
    "}\n",
    "\n",
    "gs_perceptron = GridSearchCV(perceptron_pipe, perceptron_params, n_jobs = -1, cv = 5)\n",
    "gs_perceptron.fit(X_train, y_train)\n",
    "\n",
    "print(gs_perceptron.best_params_)\n",
    "get_scores(gs_perceptron.best_estimator_, X_train, X_test)"
   ]
  },
  {
   "cell_type": "markdown",
   "metadata": {},
   "source": [
    "### LinearSVC"
   ]
  },
  {
   "cell_type": "code",
   "execution_count": 21,
   "metadata": {},
   "outputs": [
    {
     "name": "stdout",
     "output_type": "stream",
     "text": [
      "{'svc__C': 0.06, 'tvec__max_features': 8200, 'tvec__preprocessor': <function cv_stemmer at 0x000001E4D6402708>, 'tvec__strip_accents': 'ascii', 'tvec__token_pattern': '[a-zA-Z]{2,}'}\n",
      "Training Accuracy: 0.82359\n",
      "Testing Accuracy: 0.8249\n",
      "Sensitivity: 0.78659\n",
      "Specificity: 0.86092\n"
     ]
    },
    {
     "data": {
      "text/html": [
       "<div>\n",
       "<style scoped>\n",
       "    .dataframe tbody tr th:only-of-type {\n",
       "        vertical-align: middle;\n",
       "    }\n",
       "\n",
       "    .dataframe tbody tr th {\n",
       "        vertical-align: top;\n",
       "    }\n",
       "\n",
       "    .dataframe thead th {\n",
       "        text-align: right;\n",
       "    }\n",
       "</style>\n",
       "<table border=\"1\" class=\"dataframe\">\n",
       "  <thead>\n",
       "    <tr style=\"text-align: right;\">\n",
       "      <th></th>\n",
       "      <th>Actual Negative</th>\n",
       "      <th>Actual Positive</th>\n",
       "    </tr>\n",
       "  </thead>\n",
       "  <tbody>\n",
       "    <tr>\n",
       "      <th>Predicted Negative</th>\n",
       "      <td>4234</td>\n",
       "      <td>684</td>\n",
       "    </tr>\n",
       "    <tr>\n",
       "      <th>Predicted Positive</th>\n",
       "      <td>987</td>\n",
       "      <td>3638</td>\n",
       "    </tr>\n",
       "  </tbody>\n",
       "</table>\n",
       "</div>"
      ],
      "text/plain": [
       "                    Actual Negative  Actual Positive\n",
       "Predicted Negative             4234              684\n",
       "Predicted Positive              987             3638"
      ]
     },
     "execution_count": 21,
     "metadata": {},
     "output_type": "execute_result"
    },
    {
     "data": {
      "text/plain": [
       "<Figure size 432x288 with 0 Axes>"
      ]
     },
     "metadata": {},
     "output_type": "display_data"
    },
    {
     "data": {
      "image/png": "[encoded data removed]",
      "text/plain": [
       "<Figure size 432x288 with 1 Axes>"
      ]
     },
     "metadata": {
      "needs_background": "light"
     },
     "output_type": "display_data"
    }
   ],
   "source": [
    "svc_pipe = Pipeline([\n",
    "    ('tvec', TfidfVectorizer()),\n",
    "    ('svc', LinearSVC())\n",
    "])\n",
    "\n",
    "svc_params = {\n",
    "    'tvec__strip_accents': ['ascii'],\n",
    "    'tvec__preprocessor': [cv_stemmer],    \n",
    "    'tvec__token_pattern': [only_words_token_pattern],\n",
    "    'tvec__max_features': [8200],\n",
    "    'svc__C': [.06]\n",
    "}\n",
    "\n",
    "gs_svc = GridSearchCV(svc_pipe, svc_params, n_jobs = -1, cv = 5)\n",
    "gs_svc.fit(X_train, y_train)\n",
    "\n",
    "print(gs_svc.best_params_)\n",
    "get_scores(gs_svc.best_estimator_, X_train, X_test)"
   ]
  },
  {
   "cell_type": "markdown",
   "metadata": {},
   "source": [
    "### XGBoost"
   ]
  },
  {
   "cell_type": "code",
   "execution_count": 22,
   "metadata": {},
   "outputs": [
    {
     "name": "stdout",
     "output_type": "stream",
     "text": [
      "{'cvec__max_features': 5000, 'cvec__preprocessor': <function cv_stemmer at 0x000001E4D6402708>, 'cvec__strip_accents': 'ascii', 'cvec__token_pattern': '[a-zA-Z]{2,}', 'xgb__colsample_bytree': 0.4, 'xgb__gamma': 0.2, 'xgb__learning_rate': 0.5, 'xgb__max_depth': 20, 'xgb__min_child_weight': 1}\n",
      "Training Accuracy: 0.82062\n",
      "Testing Accuracy: 0.81452\n",
      "Sensitivity: 0.77708\n",
      "Specificity: 0.84974\n"
     ]
    },
    {
     "data": {
      "text/html": [
       "<div>\n",
       "<style scoped>\n",
       "    .dataframe tbody tr th:only-of-type {\n",
       "        vertical-align: middle;\n",
       "    }\n",
       "\n",
       "    .dataframe tbody tr th {\n",
       "        vertical-align: top;\n",
       "    }\n",
       "\n",
       "    .dataframe thead th {\n",
       "        text-align: right;\n",
       "    }\n",
       "</style>\n",
       "<table border=\"1\" class=\"dataframe\">\n",
       "  <thead>\n",
       "    <tr style=\"text-align: right;\">\n",
       "      <th></th>\n",
       "      <th>Actual Negative</th>\n",
       "      <th>Actual Positive</th>\n",
       "    </tr>\n",
       "  </thead>\n",
       "  <tbody>\n",
       "    <tr>\n",
       "      <th>Predicted Negative</th>\n",
       "      <td>4179</td>\n",
       "      <td>739</td>\n",
       "    </tr>\n",
       "    <tr>\n",
       "      <th>Predicted Positive</th>\n",
       "      <td>1031</td>\n",
       "      <td>3594</td>\n",
       "    </tr>\n",
       "  </tbody>\n",
       "</table>\n",
       "</div>"
      ],
      "text/plain": [
       "                    Actual Negative  Actual Positive\n",
       "Predicted Negative             4179              739\n",
       "Predicted Positive             1031             3594"
      ]
     },
     "execution_count": 22,
     "metadata": {},
     "output_type": "execute_result"
    },
    {
     "data": {
      "text/plain": [
       "<Figure size 432x288 with 0 Axes>"
      ]
     },
     "metadata": {},
     "output_type": "display_data"
    },
    {
     "data": {
      "image/png": "[encoded data removed]",
      "text/plain": [
       "<Figure size 432x288 with 1 Axes>"
      ]
     },
     "metadata": {
      "needs_background": "light"
     },
     "output_type": "display_data"
    }
   ],
   "source": [
    "xgb_pipe = Pipeline([\n",
    "    ('cvec', CountVectorizer()),\n",
    "    ('xgb', XGBClassifier())\n",
    "])\n",
    "\n",
    "xgb_params = {\n",
    "    'cvec__strip_accents': ['ascii'],\n",
    "    'cvec__preprocessor': [cv_stemmer],\n",
    "    'cvec__token_pattern': [only_words_token_pattern],\n",
    "    'cvec__max_features': [5000],\n",
    "    'xgb__learning_rate': [0.5],\n",
    "    'xgb__max_depth': [20],\n",
    "    'xgb__min_child_weight':[1],\n",
    "    'xgb__gamma':[0.2],\n",
    "    'xgb__colsample_bytree': [0.4]\n",
    "}\n",
    "\n",
    "gs_xgb = GridSearchCV(xgb_pipe, xgb_params, n_jobs = -1, cv = 5)\n",
    "gs_xgb.fit(X_train, y_train)\n",
    "\n",
    "print(gs_xgb.best_params_)\n",
    "get_scores(gs_xgb.best_estimator_, X_train, X_test)"
   ]
  },
  {
   "cell_type": "markdown",
   "metadata": {},
   "source": [
    "## Model Metric Comparison\n",
    "---"
   ]
  },
  {
   "cell_type": "code",
   "execution_count": 23,
   "metadata": {},
   "outputs": [],
   "source": [
    "# Model Performance Comparison, building a dataframe with metrics\n",
    "\n",
    "models = {'knn': gs_knn.best_estimator_,\n",
    "          'mnb': gs_mnb.best_estimator_,\n",
    "          'gnb': gs_gnb.best_estimator_,\n",
    "          'cnb': gs_cnb.best_estimator_,\n",
    "          'lr': gs_lr_tvec.best_estimator_,\n",
    "          'ridge': gs_ridge.best_estimator_,\n",
    "          'perceptron': gs_perceptron.best_estimator_,\n",
    "          'svc': gs_svc.best_estimator_, \n",
    "          'xgb': gs_xgb.best_estimator_}"
   ]
  },
  {
   "cell_type": "code",
   "execution_count": 24,
   "metadata": {},
   "outputs": [],
   "source": [
    "model_names = []\n",
    "metrics_list = []\n",
    "    \n",
    "for key, value in models.items():\n",
    "\n",
    "    # sensitivity, specificity\n",
    "    preds = value.predict(X_test)\n",
    "    cm = confusion_matrix(y_test, preds)\n",
    "    tn, fp, fn, tp = cm.ravel()\n",
    "    sens = tp / (tp + fn)\n",
    "    spec = tn / (tn + fp)\n",
    "\n",
    "    # scores\n",
    "    training_acc = round(cross_val_score(value, X_train, y_train).mean(), 5)\n",
    "    testing_acc = round(value.score(X_test, y_test), 5)\n",
    "    sensitivity = round(sens, 5)\n",
    "    specificity = round(spec, 5)\n",
    "\n",
    "    model_performance = {\n",
    "        'Training': training_acc,\n",
    "        'Testing': testing_acc,\n",
    "        'Sensitivity': sensitivity,\n",
    "        'Specificity': specificity,\n",
    "    }\n",
    "\n",
    "    model_names.append(key)\n",
    "    metrics_list.append(model_performance)"
   ]
  },
  {
   "cell_type": "code",
   "execution_count": 25,
   "metadata": {},
   "outputs": [],
   "source": [
    "scores_df = pd.DataFrame(metrics_list)\n",
    "scores_df.rename({i:j for i, j in enumerate(model_names)}, inplace=True)"
   ]
  },
  {
   "cell_type": "code",
   "execution_count": 26,
   "metadata": {},
   "outputs": [
    {
     "data": {
      "text/html": [
       "<div>\n",
       "<style scoped>\n",
       "    .dataframe tbody tr th:only-of-type {\n",
       "        vertical-align: middle;\n",
       "    }\n",
       "\n",
       "    .dataframe tbody tr th {\n",
       "        vertical-align: top;\n",
       "    }\n",
       "\n",
       "    .dataframe thead th {\n",
       "        text-align: right;\n",
       "    }\n",
       "</style>\n",
       "<table border=\"1\" class=\"dataframe\">\n",
       "  <thead>\n",
       "    <tr style=\"text-align: right;\">\n",
       "      <th></th>\n",
       "      <th>Training</th>\n",
       "      <th>Testing</th>\n",
       "      <th>Sensitivity</th>\n",
       "      <th>Specificity</th>\n",
       "    </tr>\n",
       "  </thead>\n",
       "  <tbody>\n",
       "    <tr>\n",
       "      <th>knn</th>\n",
       "      <td>0.66430</td>\n",
       "      <td>0.67138</td>\n",
       "      <td>0.37622</td>\n",
       "      <td>0.94896</td>\n",
       "    </tr>\n",
       "    <tr>\n",
       "      <th>mnb</th>\n",
       "      <td>0.82321</td>\n",
       "      <td>0.82113</td>\n",
       "      <td>0.77449</td>\n",
       "      <td>0.86499</td>\n",
       "    </tr>\n",
       "    <tr>\n",
       "      <th>gnb</th>\n",
       "      <td>0.75327</td>\n",
       "      <td>0.75972</td>\n",
       "      <td>0.64995</td>\n",
       "      <td>0.86295</td>\n",
       "    </tr>\n",
       "    <tr>\n",
       "      <th>cnb</th>\n",
       "      <td>0.82450</td>\n",
       "      <td>0.82364</td>\n",
       "      <td>0.78292</td>\n",
       "      <td>0.86194</td>\n",
       "    </tr>\n",
       "    <tr>\n",
       "      <th>lr</th>\n",
       "      <td>0.82544</td>\n",
       "      <td>0.82783</td>\n",
       "      <td>0.79503</td>\n",
       "      <td>0.85868</td>\n",
       "    </tr>\n",
       "    <tr>\n",
       "      <th>ridge</th>\n",
       "      <td>0.82625</td>\n",
       "      <td>0.82815</td>\n",
       "      <td>0.80043</td>\n",
       "      <td>0.85421</td>\n",
       "    </tr>\n",
       "    <tr>\n",
       "      <th>perceptron</th>\n",
       "      <td>0.78077</td>\n",
       "      <td>0.78717</td>\n",
       "      <td>0.76238</td>\n",
       "      <td>0.81049</td>\n",
       "    </tr>\n",
       "    <tr>\n",
       "      <th>svc</th>\n",
       "      <td>0.82359</td>\n",
       "      <td>0.82490</td>\n",
       "      <td>0.78659</td>\n",
       "      <td>0.86092</td>\n",
       "    </tr>\n",
       "    <tr>\n",
       "      <th>xgb</th>\n",
       "      <td>0.82062</td>\n",
       "      <td>0.81452</td>\n",
       "      <td>0.77708</td>\n",
       "      <td>0.84974</td>\n",
       "    </tr>\n",
       "  </tbody>\n",
       "</table>\n",
       "</div>"
      ],
      "text/plain": [
       "            Training  Testing  Sensitivity  Specificity\n",
       "knn          0.66430  0.67138      0.37622      0.94896\n",
       "mnb          0.82321  0.82113      0.77449      0.86499\n",
       "gnb          0.75327  0.75972      0.64995      0.86295\n",
       "cnb          0.82450  0.82364      0.78292      0.86194\n",
       "lr           0.82544  0.82783      0.79503      0.85868\n",
       "ridge        0.82625  0.82815      0.80043      0.85421\n",
       "perceptron   0.78077  0.78717      0.76238      0.81049\n",
       "svc          0.82359  0.82490      0.78659      0.86092\n",
       "xgb          0.82062  0.81452      0.77708      0.84974"
      ]
     },
     "execution_count": 26,
     "metadata": {},
     "output_type": "execute_result"
    }
   ],
   "source": [
    "scores_df"
   ]
  },
  {
   "cell_type": "markdown",
   "metadata": {},
   "source": [
    "## Most Divisive Words\n",
    "---"
   ]
  },
  {
   "cell_type": "code",
   "execution_count": 27,
   "metadata": {},
   "outputs": [
    {
     "data": {
      "text/html": [
       "<div>\n",
       "<style scoped>\n",
       "    .dataframe tbody tr th:only-of-type {\n",
       "        vertical-align: middle;\n",
       "    }\n",
       "\n",
       "    .dataframe tbody tr th {\n",
       "        vertical-align: top;\n",
       "    }\n",
       "\n",
       "    .dataframe thead th {\n",
       "        text-align: right;\n",
       "    }\n",
       "</style>\n",
       "<table border=\"1\" class=\"dataframe\">\n",
       "  <thead>\n",
       "    <tr style=\"text-align: right;\">\n",
       "      <th></th>\n",
       "      <th>0</th>\n",
       "      <th>1</th>\n",
       "    </tr>\n",
       "  </thead>\n",
       "  <tbody>\n",
       "    <tr>\n",
       "      <th>6552</th>\n",
       "      <td>-7.991293</td>\n",
       "      <td>this</td>\n",
       "    </tr>\n",
       "    <tr>\n",
       "      <th>6534</th>\n",
       "      <td>-4.045678</td>\n",
       "      <td>these</td>\n",
       "    </tr>\n",
       "    <tr>\n",
       "      <th>4291</th>\n",
       "      <td>-4.035487</td>\n",
       "      <td>my</td>\n",
       "    </tr>\n",
       "    <tr>\n",
       "      <th>2764</th>\n",
       "      <td>-3.595562</td>\n",
       "      <td>gay</td>\n",
       "    </tr>\n",
       "    <tr>\n",
       "      <th>3238</th>\n",
       "      <td>-3.574293</td>\n",
       "      <td>if</td>\n",
       "    </tr>\n",
       "    <tr>\n",
       "      <th>5276</th>\n",
       "      <td>-3.267465</td>\n",
       "      <td>reddit</td>\n",
       "    </tr>\n",
       "    <tr>\n",
       "      <th>3029</th>\n",
       "      <td>-3.120725</td>\n",
       "      <td>he</td>\n",
       "    </tr>\n",
       "    <tr>\n",
       "      <th>4882</th>\n",
       "      <td>-2.896153</td>\n",
       "      <td>poop</td>\n",
       "    </tr>\n",
       "    <tr>\n",
       "      <th>5760</th>\n",
       "      <td>-2.851187</td>\n",
       "      <td>shit</td>\n",
       "    </tr>\n",
       "    <tr>\n",
       "      <th>3532</th>\n",
       "      <td>-2.710426</td>\n",
       "      <td>just</td>\n",
       "    </tr>\n",
       "    <tr>\n",
       "      <th>5711</th>\n",
       "      <td>-2.690601</td>\n",
       "      <td>sex</td>\n",
       "    </tr>\n",
       "    <tr>\n",
       "      <th>1908</th>\n",
       "      <td>-2.648825</td>\n",
       "      <td>dog</td>\n",
       "    </tr>\n",
       "    <tr>\n",
       "      <th>1044</th>\n",
       "      <td>-2.448441</td>\n",
       "      <td>cat</td>\n",
       "    </tr>\n",
       "    <tr>\n",
       "      <th>1786</th>\n",
       "      <td>-2.448317</td>\n",
       "      <td>did</td>\n",
       "    </tr>\n",
       "    <tr>\n",
       "      <th>2049</th>\n",
       "      <td>-2.406834</td>\n",
       "      <td>eat</td>\n",
       "    </tr>\n",
       "    <tr>\n",
       "      <th>972</th>\n",
       "      <td>-2.342030</td>\n",
       "      <td>called</td>\n",
       "    </tr>\n",
       "    <tr>\n",
       "      <th>3573</th>\n",
       "      <td>-2.304527</td>\n",
       "      <td>kind</td>\n",
       "    </tr>\n",
       "    <tr>\n",
       "      <th>7055</th>\n",
       "      <td>-2.284283</td>\n",
       "      <td>warming</td>\n",
       "    </tr>\n",
       "    <tr>\n",
       "      <th>3113</th>\n",
       "      <td>-2.241785</td>\n",
       "      <td>his</td>\n",
       "    </tr>\n",
       "    <tr>\n",
       "      <th>1784</th>\n",
       "      <td>-2.223399</td>\n",
       "      <td>dick</td>\n",
       "    </tr>\n",
       "    <tr>\n",
       "      <th>5763</th>\n",
       "      <td>-2.159879</td>\n",
       "      <td>shitty</td>\n",
       "    </tr>\n",
       "    <tr>\n",
       "      <th>536</th>\n",
       "      <td>-2.154677</td>\n",
       "      <td>autism</td>\n",
       "    </tr>\n",
       "    <tr>\n",
       "      <th>1037</th>\n",
       "      <td>-2.137015</td>\n",
       "      <td>cars</td>\n",
       "    </tr>\n",
       "    <tr>\n",
       "      <th>4017</th>\n",
       "      <td>-2.134245</td>\n",
       "      <td>mean</td>\n",
       "    </tr>\n",
       "    <tr>\n",
       "      <th>2406</th>\n",
       "      <td>-2.133080</td>\n",
       "      <td>fart</td>\n",
       "    </tr>\n",
       "    <tr>\n",
       "      <th>1921</th>\n",
       "      <td>-2.115753</td>\n",
       "      <td>don</td>\n",
       "    </tr>\n",
       "    <tr>\n",
       "      <th>5130</th>\n",
       "      <td>-2.022863</td>\n",
       "      <td>put</td>\n",
       "    </tr>\n",
       "    <tr>\n",
       "      <th>2544</th>\n",
       "      <td>-2.006115</td>\n",
       "      <td>flat</td>\n",
       "    </tr>\n",
       "    <tr>\n",
       "      <th>2936</th>\n",
       "      <td>-1.997294</td>\n",
       "      <td>grow</td>\n",
       "    </tr>\n",
       "    <tr>\n",
       "      <th>1979</th>\n",
       "      <td>-1.986743</td>\n",
       "      <td>drink</td>\n",
       "    </tr>\n",
       "    <tr>\n",
       "      <th>478</th>\n",
       "      <td>-1.959857</td>\n",
       "      <td>ass</td>\n",
       "    </tr>\n",
       "    <tr>\n",
       "      <th>648</th>\n",
       "      <td>-1.954755</td>\n",
       "      <td>because</td>\n",
       "    </tr>\n",
       "    <tr>\n",
       "      <th>532</th>\n",
       "      <td>-1.941159</td>\n",
       "      <td>australia</td>\n",
       "    </tr>\n",
       "    <tr>\n",
       "      <th>7042</th>\n",
       "      <td>-1.921733</td>\n",
       "      <td>walk</td>\n",
       "    </tr>\n",
       "    <tr>\n",
       "      <th>3084</th>\n",
       "      <td>-1.915817</td>\n",
       "      <td>her</td>\n",
       "    </tr>\n",
       "    <tr>\n",
       "      <th>2878</th>\n",
       "      <td>-1.907835</td>\n",
       "      <td>got</td>\n",
       "    </tr>\n",
       "    <tr>\n",
       "      <th>24</th>\n",
       "      <td>-1.907290</td>\n",
       "      <td>18</td>\n",
       "    </tr>\n",
       "    <tr>\n",
       "      <th>4771</th>\n",
       "      <td>-1.886067</td>\n",
       "      <td>picture</td>\n",
       "    </tr>\n",
       "    <tr>\n",
       "      <th>316</th>\n",
       "      <td>-1.864964</td>\n",
       "      <td>am</td>\n",
       "    </tr>\n",
       "    <tr>\n",
       "      <th>1124</th>\n",
       "      <td>-1.857695</td>\n",
       "      <td>cheese</td>\n",
       "    </tr>\n",
       "    <tr>\n",
       "      <th>3439</th>\n",
       "      <td>-1.835474</td>\n",
       "      <td>invented</td>\n",
       "    </tr>\n",
       "    <tr>\n",
       "      <th>7170</th>\n",
       "      <td>-1.827629</td>\n",
       "      <td>wings</td>\n",
       "    </tr>\n",
       "    <tr>\n",
       "      <th>2092</th>\n",
       "      <td>-1.820240</td>\n",
       "      <td>einstein</td>\n",
       "    </tr>\n",
       "    <tr>\n",
       "      <th>6292</th>\n",
       "      <td>-1.814149</td>\n",
       "      <td>sun</td>\n",
       "    </tr>\n",
       "    <tr>\n",
       "      <th>7200</th>\n",
       "      <td>-1.811407</td>\n",
       "      <td>woman</td>\n",
       "    </tr>\n",
       "    <tr>\n",
       "      <th>6633</th>\n",
       "      <td>-1.806220</td>\n",
       "      <td>toilet</td>\n",
       "    </tr>\n",
       "    <tr>\n",
       "      <th>2531</th>\n",
       "      <td>-1.770259</td>\n",
       "      <td>five</td>\n",
       "    </tr>\n",
       "    <tr>\n",
       "      <th>3466</th>\n",
       "      <td>-1.748181</td>\n",
       "      <td>isn</td>\n",
       "    </tr>\n",
       "    <tr>\n",
       "      <th>2817</th>\n",
       "      <td>-1.737649</td>\n",
       "      <td>ghosts</td>\n",
       "    </tr>\n",
       "    <tr>\n",
       "      <th>947</th>\n",
       "      <td>-1.709747</td>\n",
       "      <td>butt</td>\n",
       "    </tr>\n",
       "  </tbody>\n",
       "</table>\n",
       "</div>"
      ],
      "text/plain": [
       "             0          1\n",
       "6552 -7.991293       this\n",
       "6534 -4.045678      these\n",
       "4291 -4.035487         my\n",
       "2764 -3.595562        gay\n",
       "3238 -3.574293         if\n",
       "5276 -3.267465     reddit\n",
       "3029 -3.120725         he\n",
       "4882 -2.896153       poop\n",
       "5760 -2.851187       shit\n",
       "3532 -2.710426       just\n",
       "5711 -2.690601        sex\n",
       "1908 -2.648825        dog\n",
       "1044 -2.448441        cat\n",
       "1786 -2.448317        did\n",
       "2049 -2.406834        eat\n",
       "972  -2.342030     called\n",
       "3573 -2.304527       kind\n",
       "7055 -2.284283    warming\n",
       "3113 -2.241785        his\n",
       "1784 -2.223399       dick\n",
       "5763 -2.159879     shitty\n",
       "536  -2.154677     autism\n",
       "1037 -2.137015       cars\n",
       "4017 -2.134245       mean\n",
       "2406 -2.133080       fart\n",
       "1921 -2.115753        don\n",
       "5130 -2.022863        put\n",
       "2544 -2.006115       flat\n",
       "2936 -1.997294       grow\n",
       "1979 -1.986743      drink\n",
       "478  -1.959857        ass\n",
       "648  -1.954755    because\n",
       "532  -1.941159  australia\n",
       "7042 -1.921733       walk\n",
       "3084 -1.915817        her\n",
       "2878 -1.907835        got\n",
       "24   -1.907290         18\n",
       "4771 -1.886067    picture\n",
       "316  -1.864964         am\n",
       "1124 -1.857695     cheese\n",
       "3439 -1.835474   invented\n",
       "7170 -1.827629      wings\n",
       "2092 -1.820240   einstein\n",
       "6292 -1.814149        sun\n",
       "7200 -1.811407      woman\n",
       "6633 -1.806220     toilet\n",
       "2531 -1.770259       five\n",
       "3466 -1.748181        isn\n",
       "2817 -1.737649     ghosts\n",
       "947  -1.709747       butt"
      ]
     },
     "execution_count": 27,
     "metadata": {},
     "output_type": "execute_result"
    }
   ],
   "source": [
    "# recreate best logistic regression model\n",
    "\n",
    "tfidf = TfidfVectorizer(strip_accents = 'ascii', preprocessor = cv_stemmer, max_features = 7300)\n",
    "\n",
    "X_train_tv = tfidf.fit_transform(X_train)\n",
    "X_test_tv = tfidf.transform(X_test)\n",
    "\n",
    "logreg = LogisticRegression()\n",
    "\n",
    "logreg.fit(X_train_tv, y_train)\n",
    "\n",
    "# pull coefficients for features/words\n",
    "coefficients = pd.DataFrame(list(zip(logreg.coef_[0],tfidf.get_feature_names())))\n",
    "\n",
    "# look at 50 features whose presence is most likely to result in a classification of 0\n",
    "coefficients.sort_values(by=0).head(50)"
   ]
  },
  {
   "cell_type": "code",
   "execution_count": 28,
   "metadata": {},
   "outputs": [
    {
     "data": {
      "text/html": [
       "<div>\n",
       "<style scoped>\n",
       "    .dataframe tbody tr th:only-of-type {\n",
       "        vertical-align: middle;\n",
       "    }\n",
       "\n",
       "    .dataframe tbody tr th {\n",
       "        vertical-align: top;\n",
       "    }\n",
       "\n",
       "    .dataframe thead th {\n",
       "        text-align: right;\n",
       "    }\n",
       "</style>\n",
       "<table border=\"1\" class=\"dataframe\">\n",
       "  <thead>\n",
       "    <tr style=\"text-align: right;\">\n",
       "      <th></th>\n",
       "      <th>0</th>\n",
       "      <th>1</th>\n",
       "    </tr>\n",
       "  </thead>\n",
       "  <tbody>\n",
       "    <tr>\n",
       "      <th>1512</th>\n",
       "      <td>6.848755</td>\n",
       "      <td>covid</td>\n",
       "    </tr>\n",
       "    <tr>\n",
       "      <th>7006</th>\n",
       "      <td>6.004056</td>\n",
       "      <td>viruses</td>\n",
       "    </tr>\n",
       "    <tr>\n",
       "      <th>27</th>\n",
       "      <td>5.878905</td>\n",
       "      <td>19</td>\n",
       "    </tr>\n",
       "    <tr>\n",
       "      <th>7005</th>\n",
       "      <td>5.421539</td>\n",
       "      <td>virus</td>\n",
       "    </tr>\n",
       "    <tr>\n",
       "      <th>1471</th>\n",
       "      <td>5.163611</td>\n",
       "      <td>coronavirus</td>\n",
       "    </tr>\n",
       "    <tr>\n",
       "      <th>1513</th>\n",
       "      <td>4.735301</td>\n",
       "      <td>covid19</td>\n",
       "    </tr>\n",
       "    <tr>\n",
       "      <th>4619</th>\n",
       "      <td>4.194386</td>\n",
       "      <td>pandemic</td>\n",
       "    </tr>\n",
       "    <tr>\n",
       "      <th>227</th>\n",
       "      <td>3.851877</td>\n",
       "      <td>affect</td>\n",
       "    </tr>\n",
       "    <tr>\n",
       "      <th>3977</th>\n",
       "      <td>3.675294</td>\n",
       "      <td>masks</td>\n",
       "    </tr>\n",
       "    <tr>\n",
       "      <th>2577</th>\n",
       "      <td>3.512712</td>\n",
       "      <td>flu</td>\n",
       "    </tr>\n",
       "    <tr>\n",
       "      <th>6925</th>\n",
       "      <td>3.464761</td>\n",
       "      <td>vaccine</td>\n",
       "    </tr>\n",
       "    <tr>\n",
       "      <th>4523</th>\n",
       "      <td>3.291745</td>\n",
       "      <td>or</td>\n",
       "    </tr>\n",
       "    <tr>\n",
       "      <th>5141</th>\n",
       "      <td>3.230331</td>\n",
       "      <td>quarantine</td>\n",
       "    </tr>\n",
       "    <tr>\n",
       "      <th>7241</th>\n",
       "      <td>3.199409</td>\n",
       "      <td>would</td>\n",
       "    </tr>\n",
       "    <tr>\n",
       "      <th>597</th>\n",
       "      <td>3.143406</td>\n",
       "      <td>bang</td>\n",
       "    </tr>\n",
       "    <tr>\n",
       "      <th>2229</th>\n",
       "      <td>3.119146</td>\n",
       "      <td>etc</td>\n",
       "    </tr>\n",
       "    <tr>\n",
       "      <th>1798</th>\n",
       "      <td>3.000846</td>\n",
       "      <td>different</td>\n",
       "    </tr>\n",
       "    <tr>\n",
       "      <th>5565</th>\n",
       "      <td>2.942133</td>\n",
       "      <td>sars</td>\n",
       "    </tr>\n",
       "    <tr>\n",
       "      <th>2081</th>\n",
       "      <td>2.921057</td>\n",
       "      <td>effects</td>\n",
       "    </tr>\n",
       "    <tr>\n",
       "      <th>4907</th>\n",
       "      <td>2.857622</td>\n",
       "      <td>possible</td>\n",
       "    </tr>\n",
       "    <tr>\n",
       "      <th>3259</th>\n",
       "      <td>2.829195</td>\n",
       "      <td>immune</td>\n",
       "    </tr>\n",
       "    <tr>\n",
       "      <th>3833</th>\n",
       "      <td>2.752773</td>\n",
       "      <td>lockdown</td>\n",
       "    </tr>\n",
       "    <tr>\n",
       "      <th>800</th>\n",
       "      <td>2.749528</td>\n",
       "      <td>body</td>\n",
       "    </tr>\n",
       "    <tr>\n",
       "      <th>392</th>\n",
       "      <td>2.704461</td>\n",
       "      <td>any</td>\n",
       "    </tr>\n",
       "    <tr>\n",
       "      <th>1973</th>\n",
       "      <td>2.681527</td>\n",
       "      <td>dreams</td>\n",
       "    </tr>\n",
       "    <tr>\n",
       "      <th>6329</th>\n",
       "      <td>2.600213</td>\n",
       "      <td>surfaces</td>\n",
       "    </tr>\n",
       "    <tr>\n",
       "      <th>6389</th>\n",
       "      <td>2.524905</td>\n",
       "      <td>system</td>\n",
       "    </tr>\n",
       "    <tr>\n",
       "      <th>6328</th>\n",
       "      <td>2.520689</td>\n",
       "      <td>surface</td>\n",
       "    </tr>\n",
       "    <tr>\n",
       "      <th>1850</th>\n",
       "      <td>2.485824</td>\n",
       "      <td>diseases</td>\n",
       "    </tr>\n",
       "    <tr>\n",
       "      <th>1594</th>\n",
       "      <td>2.468954</td>\n",
       "      <td>current</td>\n",
       "    </tr>\n",
       "    <tr>\n",
       "      <th>360</th>\n",
       "      <td>2.466385</td>\n",
       "      <td>animals</td>\n",
       "    </tr>\n",
       "    <tr>\n",
       "      <th>1041</th>\n",
       "      <td>2.462021</td>\n",
       "      <td>cases</td>\n",
       "    </tr>\n",
       "    <tr>\n",
       "      <th>6918</th>\n",
       "      <td>2.461354</td>\n",
       "      <td>uv</td>\n",
       "    </tr>\n",
       "    <tr>\n",
       "      <th>4272</th>\n",
       "      <td>2.430980</td>\n",
       "      <td>muscle</td>\n",
       "    </tr>\n",
       "    <tr>\n",
       "      <th>5569</th>\n",
       "      <td>2.425457</td>\n",
       "      <td>satellites</td>\n",
       "    </tr>\n",
       "    <tr>\n",
       "      <th>6079</th>\n",
       "      <td>2.361190</td>\n",
       "      <td>spread</td>\n",
       "    </tr>\n",
       "    <tr>\n",
       "      <th>1088</th>\n",
       "      <td>2.354227</td>\n",
       "      <td>certain</td>\n",
       "    </tr>\n",
       "    <tr>\n",
       "      <th>1876</th>\n",
       "      <td>2.316729</td>\n",
       "      <td>distancing</td>\n",
       "    </tr>\n",
       "    <tr>\n",
       "      <th>1491</th>\n",
       "      <td>2.308082</td>\n",
       "      <td>could</td>\n",
       "    </tr>\n",
       "    <tr>\n",
       "      <th>1597</th>\n",
       "      <td>2.277631</td>\n",
       "      <td>curve</td>\n",
       "    </tr>\n",
       "    <tr>\n",
       "      <th>5645</th>\n",
       "      <td>2.267642</td>\n",
       "      <td>seem</td>\n",
       "    </tr>\n",
       "    <tr>\n",
       "      <th>1072</th>\n",
       "      <td>2.254834</td>\n",
       "      <td>cells</td>\n",
       "    </tr>\n",
       "    <tr>\n",
       "      <th>5974</th>\n",
       "      <td>2.244093</td>\n",
       "      <td>some</td>\n",
       "    </tr>\n",
       "    <tr>\n",
       "      <th>6382</th>\n",
       "      <td>2.225180</td>\n",
       "      <td>symptoms</td>\n",
       "    </tr>\n",
       "    <tr>\n",
       "      <th>4606</th>\n",
       "      <td>2.223311</td>\n",
       "      <td>pain</td>\n",
       "    </tr>\n",
       "    <tr>\n",
       "      <th>3133</th>\n",
       "      <td>2.221200</td>\n",
       "      <td>home</td>\n",
       "    </tr>\n",
       "    <tr>\n",
       "      <th>6031</th>\n",
       "      <td>2.202911</td>\n",
       "      <td>specific</td>\n",
       "    </tr>\n",
       "    <tr>\n",
       "      <th>3263</th>\n",
       "      <td>2.183571</td>\n",
       "      <td>impact</td>\n",
       "    </tr>\n",
       "    <tr>\n",
       "      <th>351</th>\n",
       "      <td>2.177117</td>\n",
       "      <td>and</td>\n",
       "    </tr>\n",
       "    <tr>\n",
       "      <th>4447</th>\n",
       "      <td>2.107872</td>\n",
       "      <td>object</td>\n",
       "    </tr>\n",
       "  </tbody>\n",
       "</table>\n",
       "</div>"
      ],
      "text/plain": [
       "             0            1\n",
       "1512  6.848755        covid\n",
       "7006  6.004056      viruses\n",
       "27    5.878905           19\n",
       "7005  5.421539        virus\n",
       "1471  5.163611  coronavirus\n",
       "1513  4.735301      covid19\n",
       "4619  4.194386     pandemic\n",
       "227   3.851877       affect\n",
       "3977  3.675294        masks\n",
       "2577  3.512712          flu\n",
       "6925  3.464761      vaccine\n",
       "4523  3.291745           or\n",
       "5141  3.230331   quarantine\n",
       "7241  3.199409        would\n",
       "597   3.143406         bang\n",
       "2229  3.119146          etc\n",
       "1798  3.000846    different\n",
       "5565  2.942133         sars\n",
       "2081  2.921057      effects\n",
       "4907  2.857622     possible\n",
       "3259  2.829195       immune\n",
       "3833  2.752773     lockdown\n",
       "800   2.749528         body\n",
       "392   2.704461          any\n",
       "1973  2.681527       dreams\n",
       "6329  2.600213     surfaces\n",
       "6389  2.524905       system\n",
       "6328  2.520689      surface\n",
       "1850  2.485824     diseases\n",
       "1594  2.468954      current\n",
       "360   2.466385      animals\n",
       "1041  2.462021        cases\n",
       "6918  2.461354           uv\n",
       "4272  2.430980       muscle\n",
       "5569  2.425457   satellites\n",
       "6079  2.361190       spread\n",
       "1088  2.354227      certain\n",
       "1876  2.316729   distancing\n",
       "1491  2.308082        could\n",
       "1597  2.277631        curve\n",
       "5645  2.267642         seem\n",
       "1072  2.254834        cells\n",
       "5974  2.244093         some\n",
       "6382  2.225180     symptoms\n",
       "4606  2.223311         pain\n",
       "3133  2.221200         home\n",
       "6031  2.202911     specific\n",
       "3263  2.183571       impact\n",
       "351   2.177117          and\n",
       "4447  2.107872       object"
      ]
     },
     "execution_count": 28,
     "metadata": {},
     "output_type": "execute_result"
    }
   ],
   "source": [
    "# look at 50 features whose presence is most likely to result in a classification of 1\n",
    "coefficients.sort_values(by=0, ascending=False).head(50)"
   ]
  },
  {
   "cell_type": "markdown",
   "metadata": {},
   "source": [
    "## Investigating Misclassified Posts\n",
    "---"
   ]
  },
  {
   "cell_type": "code",
   "execution_count": 29,
   "metadata": {},
   "outputs": [],
   "source": [
    "# generate predictions\n",
    "test_preds = logreg.predict(X_test_tv)\n",
    "\n",
    "# match them to post titles\n",
    "results = pd.DataFrame({\n",
    "    'titles': X_test,\n",
    "    'predicted_subreddit': test_preds,\n",
    "    'actual_subreddit': y_test})\n",
    "\n",
    "# filter out accurate predictions from misclassifications\n",
    "accurate_predictions = results.loc[results['predicted_subreddit'] == results['actual_subreddit'], :]\n",
    "misclassifications = results.loc[results['predicted_subreddit'] != results['actual_subreddit'], :]"
   ]
  },
  {
   "cell_type": "markdown",
   "metadata": {},
   "source": [
    "#### A Sample of True Positives"
   ]
  },
  {
   "cell_type": "code",
   "execution_count": 30,
   "metadata": {},
   "outputs": [
    {
     "name": "stdout",
     "output_type": "stream",
     "text": [
      "[\"Is it possible that, sometime in the future, there could be a brain implant that allowed full-time internet access? Like you can look up stuff with your mind? O don't feel like it's possible\"\n",
      " 'I’m time traveling back to 1920. Would my immune system be so set on tackling other “modern” bacterias that I would die?'\n",
      " 'How much of an exposure to COVID-19 virus leads to an infection?'\n",
      " 'Why does Corona infects only humans and not other animals?'\n",
      " 'How do grass and plants grow back after a fire since there will be no seeds without any plants?'\n",
      " 'How do hand sanitizers work? (in chemistry terms)'\n",
      " 'Can a fertilized octopus egg ingested into the human system actually grow inside the body?'\n",
      " 'Bodies on eath have potential energy because of the force of gravity acting on them. If you apply a force on something(like pushing it), does it gain potential energy?'\n",
      " 'Why is are some many people A-symptomatic with COVID 19?'\n",
      " 'How sure can we be that SARS-CoV-2 is of natural origin?']\n"
     ]
    }
   ],
   "source": [
    "print(accurate_predictions.loc[accurate_predictions['actual_subreddit'] == 1, 'titles'].values[:10])"
   ]
  },
  {
   "cell_type": "markdown",
   "metadata": {},
   "source": [
    "#### A Sample of False Positives"
   ]
  },
  {
   "cell_type": "code",
   "execution_count": 31,
   "metadata": {},
   "outputs": [
    {
     "name": "stdout",
     "output_type": "stream",
     "text": [
      "['What is the difference between neural nets and fishing nets?'\n",
      " 'Are moths attracted to light or scared of the dark?'\n",
      " 'What would taking a bath in carbonated water feel like?'\n",
      " 'Would a normal window be strong enough or be able to gain enough speed/force to cleanly decapitate someone like it does in the movies and on TV?'\n",
      " 'How do i do a handstand on the surface?'\n",
      " 'What would happen if you go outside and back in real quick in a t-shirt and shorts in the coldest part of the world?'\n",
      " \"CRISPER technology for genetically modifying organisms has been around for some time, but my cornflakes still get soggy. What's up with that?\"\n",
      " 'What temperature would be required to melt a human being? On top of that, what temperature would be required to sublimate a human being?'\n",
      " 'Is \"10\" pronounced \"onety\" or \"zeroteen\"?'\n",
      " 'Computers, email, and digitally stored information has greatly reduced the amount of paper products used, which helps the environment significantly. How can we use that same concept and apply it to toilet paper usage?']\n"
     ]
    }
   ],
   "source": [
    "print(misclassifications.loc[misclassifications['actual_subreddit'] != 1, 'titles'].values[:10])"
   ]
  },
  {
   "cell_type": "markdown",
   "metadata": {},
   "source": [
    "#### A Sample of True Negatives"
   ]
  },
  {
   "cell_type": "code",
   "execution_count": 32,
   "metadata": {},
   "outputs": [
    {
     "name": "stdout",
     "output_type": "stream",
     "text": [
      "['Why do we have a test to see if he is the father, but not if the baby is his child? 👶'\n",
      " 'Corn’s hidden uses'\n",
      " 'How common is this birth defect for a person to have 3 left hands?'\n",
      " \"If I'm having suicidal thoughts and then kill myself in order to save my own life from being murdered by me, would the law protect me?\"\n",
      " 'My car is almost 16 years old, will it become a self driving car?'\n",
      " 'How many marmots are in an universal standard marmoset?'\n",
      " \"AskAscience deleted this but I want a serious question dammit! Suppose a mad scientist takes over the world and decides to devote all of mankind's resources towards destroying the sun! Why? Mad scientist. What technology should be pursued which has the best chance of actually doing this?\"\n",
      " 'If almonds are nuts, how can they produce milk? Are almond trees hermaphrodites?'\n",
      " 'With so many options of renewable energy, why are we still using oil?'\n",
      " 'If prolonged exposure to the sun can cause skin cancer, and radiation is used to fight cancer, should I sit in the sun all day to cure my skin cancer?']\n"
     ]
    }
   ],
   "source": [
    "print(accurate_predictions.loc[accurate_predictions['actual_subreddit'] != 1, 'titles'].values[:10])"
   ]
  },
  {
   "cell_type": "markdown",
   "metadata": {},
   "source": [
    "#### A Sample of False Negatives"
   ]
  },
  {
   "cell_type": "code",
   "execution_count": 33,
   "metadata": {},
   "outputs": [
    {
     "name": "stdout",
     "output_type": "stream",
     "text": [
      "['Help me with my qualifying exam?'\n",
      " \"why don't mesons annihilate, and how do they even exist?\"\n",
      " \"[Physics] Why can I spot tiny glimmers of colored light on my dog's fur on a sunny day?\"\n",
      " 'How much energy (in kJs) is needed for a plant to grow?'\n",
      " 'Is yellowstone going to erupt this week? or anytime soon?'\n",
      " 'Why RNA has Uracil instead of Thyamine?'\n",
      " 'Say we have two 20 year old identical twins. If one was put on a spacecraft that travelled at 99.99% light speed through space and came back to Earth after 40 years, what would he look like in comparison to his twin brother who lived those 40 years on Earth?'\n",
      " 'How long until this dies down in the uk?'\n",
      " 'Why do people become less willing to change and adapt as they age?'\n",
      " 'Name of a Primitive People Believing sperm is finite and to replenish They must lick a white leaking liquid from a Tree?']\n"
     ]
    }
   ],
   "source": [
    "print(misclassifications.loc[misclassifications['actual_subreddit'] == 1, 'titles'].values[:10])"
   ]
  }
 ],
 "metadata": {
  "kernelspec": {
   "display_name": "Python 3",
   "language": "python",
   "name": "python3"
  },
  "language_info": {
   "codemirror_mode": {
    "name": "ipython",
    "version": 3
   },
   "file_extension": ".py",
   "mimetype": "text/x-python",
   "name": "python",
   "nbconvert_exporter": "python",
   "pygments_lexer": "ipython3",
   "version": "3.7.6"
  }
 },
 "nbformat": 4,
 "nbformat_minor": 4
}
