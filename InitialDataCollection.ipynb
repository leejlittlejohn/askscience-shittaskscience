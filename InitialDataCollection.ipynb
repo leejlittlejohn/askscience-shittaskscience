{
 "cells": [
  {
   "cell_type": "code",
   "execution_count": 1,
   "metadata": {},
   "outputs": [],
   "source": [
    "import pandas as pd\n",
    "import requests\n",
    "import json\n",
    "from datetime import datetime"
   ]
  },
  {
   "cell_type": "markdown",
   "metadata": {},
   "source": [
    "## Set Time Anchor\n",
    "\n",
    "Created during exploratory pulls to have a reference point for collecting non-duplicate data over multiple days. The original code to create this timestamp is commented out."
   ]
  },
  {
   "cell_type": "code",
   "execution_count": 2,
   "metadata": {},
   "outputs": [
    {
     "data": {
      "text/plain": [
       "datetime.datetime(2020, 4, 18, 12, 23, 31)"
      ]
     },
     "execution_count": 2,
     "metadata": {},
     "output_type": "execute_result"
    }
   ],
   "source": [
    "time_anchor = 1587230611\n",
    "datetime.fromtimestamp(time_anchor)"
   ]
  },
  {
   "cell_type": "markdown",
   "metadata": {},
   "source": [
    "## Data Collection from r/askscience"
   ]
  },
  {
   "cell_type": "markdown",
   "metadata": {},
   "source": [
    "The pushshift API only allows for pulling down 500 posts at a time; the goal here is 5,000+ observations for each subreddit."
   ]
  },
  {
   "cell_type": "code",
   "execution_count": 3,
   "metadata": {},
   "outputs": [
    {
     "data": {
      "text/plain": [
       "200"
      ]
     },
     "execution_count": 3,
     "metadata": {},
     "output_type": "execute_result"
    }
   ],
   "source": [
    "# grab the first 500 posts with the pushshift API\n",
    "\n",
    "url = 'https://api.pushshift.io/reddit/search/submission'\n",
    "\n",
    "paramsfirst500 = {\n",
    "    'subreddit': 'askscience',\n",
    "    'size': 500,\n",
    "    'before': time_anchor\n",
    "}\n",
    "\n",
    "resfirst500 = requests.get(url, paramsfirst500)\n",
    "\n",
    "# check status for success\n",
    "resfirst500.status_code"
   ]
  },
  {
   "cell_type": "code",
   "execution_count": 4,
   "metadata": {},
   "outputs": [
    {
     "data": {
      "text/plain": [
       "['Is there a term for the compulsive stripping during a breakdown?',\n",
       " 'Funny and Cute Baby - Funny Cute Videos | Simple relief from corona Virus',\n",
       " 'Is there an optimal amount of subjects your brain can learn over a period of time?',\n",
       " 'A term for compulsive stripping, pulling hair.',\n",
       " 'Is there any benefit of scrubbing onion on hot grills?']"
      ]
     },
     "execution_count": 4,
     "metadata": {},
     "output_type": "execute_result"
    }
   ],
   "source": [
    "# convert to json, extract only a list of posts\n",
    "datafirst500 = resfirst500.json()\n",
    "first500posts = datafirst500['data']\n",
    "\n",
    "# sanity check for titles\n",
    "[i['title'] for i in first500posts][:5]"
   ]
  },
  {
   "cell_type": "markdown",
   "metadata": {},
   "source": [
    "#### Original Time Anchor Creation"
   ]
  },
  {
   "cell_type": "code",
   "execution_count": 5,
   "metadata": {},
   "outputs": [],
   "source": [
    "# create a reference timestamp for collecting more data over the next few days\n",
    "\n",
    "# time_anchor = first500posts[0]['created_utc']"
   ]
  },
  {
   "cell_type": "markdown",
   "metadata": {},
   "source": [
    "#### Gather More Data\n",
    "\n",
    "Now to loop backwards through time and pull in posts."
   ]
  },
  {
   "cell_type": "code",
   "execution_count": 6,
   "metadata": {},
   "outputs": [],
   "source": [
    "# instantiate list to hold all data from the loops\n",
    "data = first500posts.copy()\n",
    "\n",
    "# get oldest post's timestamp each loop to go further back\n",
    "oldesttimestamp = first500posts[-1]['created_utc']"
   ]
  },
  {
   "cell_type": "code",
   "execution_count": 7,
   "metadata": {},
   "outputs": [],
   "source": [
    "# function to grab posts using the pushshift API\n",
    "\n",
    "def pull_posts_before(subreddit, n, final_destination, starting_when=oldesttimestamp):\n",
    "    '''The 'n' parameter determines the number of posts pulled in multiples of 500\n",
    "        'final_destination' needs to be a list in which to store the posts'''\n",
    "    for i in range(n):\n",
    "\n",
    "        # set request parameters\n",
    "        paramsnext500 = {\n",
    "            'subreddit': f'{subreddit}',\n",
    "            'size': 500,\n",
    "            'before': starting_when\n",
    "        }\n",
    "\n",
    "        # create request\n",
    "        resnext500 = requests.get(url, paramsnext500)\n",
    "\n",
    "        # print out status code each loop to ensure success\n",
    "        print('Pulling down data... Status Code:', resnext500.status_code)\n",
    "\n",
    "        # convert to json, strip away outer layer to get only post data\n",
    "        datanext500 = resnext500.json()\n",
    "        next500posts = datanext500['data']\n",
    "\n",
    "        # append to data\n",
    "        final_destination.extend(next500posts)\n",
    "\n",
    "        # set new oldesttimestamp for next loop\n",
    "        starting_when = next500posts[-1]['created_utc']"
   ]
  },
  {
   "cell_type": "code",
   "execution_count": 8,
   "metadata": {},
   "outputs": [
    {
     "name": "stdout",
     "output_type": "stream",
     "text": [
      "Pulling down data... Status Code: 200\n",
      "Pulling down data... Status Code: 200\n",
      "Pulling down data... Status Code: 200\n",
      "Pulling down data... Status Code: 200\n",
      "Pulling down data... Status Code: 200\n",
      "Pulling down data... Status Code: 200\n",
      "Pulling down data... Status Code: 200\n",
      "Pulling down data... Status Code: 200\n",
      "Pulling down data... Status Code: 200\n",
      "Pulling down data... Status Code: 200\n",
      "Pulling down data... Status Code: 200\n",
      "Pulling down data... Status Code: 200\n",
      "Pulling down data... Status Code: 200\n",
      "Pulling down data... Status Code: 200\n",
      "Pulling down data... Status Code: 200\n",
      "Pulling down data... Status Code: 200\n",
      "Pulling down data... Status Code: 200\n",
      "Pulling down data... Status Code: 200\n",
      "Pulling down data... Status Code: 200\n",
      "Pulling down data... Status Code: 200\n",
      "Pulling down data... Status Code: 200\n",
      "Pulling down data... Status Code: 200\n",
      "Pulling down data... Status Code: 200\n",
      "Pulling down data... Status Code: 200\n",
      "Pulling down data... Status Code: 200\n",
      "Pulling down data... Status Code: 200\n",
      "Pulling down data... Status Code: 200\n",
      "Pulling down data... Status Code: 200\n",
      "Pulling down data... Status Code: 200\n",
      "Pulling down data... Status Code: 200\n",
      "Pulling down data... Status Code: 200\n",
      "Pulling down data... Status Code: 200\n",
      "Pulling down data... Status Code: 200\n",
      "Pulling down data... Status Code: 200\n",
      "Pulling down data... Status Code: 200\n",
      "Pulling down data... Status Code: 200\n",
      "Pulling down data... Status Code: 200\n",
      "Pulling down data... Status Code: 200\n",
      "Pulling down data... Status Code: 200\n"
     ]
    },
    {
     "data": {
      "text/plain": [
       "20000"
      ]
     },
     "execution_count": 8,
     "metadata": {},
     "output_type": "execute_result"
    }
   ],
   "source": [
    "# use pull_posts_before with n = 39 to add 19,500 more posts to our first 500\n",
    "pull_posts_before('askscience', 39, data)\n",
    "\n",
    "# check length of data, should be 20,000\n",
    "len(data)"
   ]
  },
  {
   "cell_type": "code",
   "execution_count": 9,
   "metadata": {},
   "outputs": [
    {
     "name": "stdout",
     "output_type": "stream",
     "text": [
      "451\n"
     ]
    }
   ],
   "source": [
    "# check for duplicates, make sure the above code isn't grabbing the same data over and over\n",
    "# and check if we've reached the end of the subreddit, grabbing the first ever 500 posts over and over\n",
    "\n",
    "print(len([i['title'] for i in data]) - len(set([i['title'] for i in data])))"
   ]
  },
  {
   "cell_type": "code",
   "execution_count": 10,
   "metadata": {},
   "outputs": [],
   "source": [
    "# 451 duplicates will need to be removed before modelling."
   ]
  },
  {
   "cell_type": "markdown",
   "metadata": {},
   "source": [
    "## Data Collection for r/shittyaskscience"
   ]
  },
  {
   "cell_type": "code",
   "execution_count": 11,
   "metadata": {},
   "outputs": [
    {
     "name": "stdout",
     "output_type": "stream",
     "text": [
      "Pulling down data... Status Code: 200\n",
      "Pulling down data... Status Code: 200\n",
      "Pulling down data... Status Code: 200\n",
      "Pulling down data... Status Code: 200\n",
      "Pulling down data... Status Code: 200\n",
      "Pulling down data... Status Code: 200\n",
      "Pulling down data... Status Code: 200\n",
      "Pulling down data... Status Code: 200\n",
      "Pulling down data... Status Code: 200\n",
      "Pulling down data... Status Code: 200\n",
      "Pulling down data... Status Code: 200\n",
      "Pulling down data... Status Code: 200\n",
      "Pulling down data... Status Code: 200\n",
      "Pulling down data... Status Code: 200\n",
      "Pulling down data... Status Code: 200\n",
      "Pulling down data... Status Code: 200\n",
      "Pulling down data... Status Code: 200\n",
      "Pulling down data... Status Code: 200\n",
      "Pulling down data... Status Code: 200\n",
      "Pulling down data... Status Code: 200\n",
      "Pulling down data... Status Code: 200\n",
      "Pulling down data... Status Code: 200\n",
      "Pulling down data... Status Code: 200\n",
      "Pulling down data... Status Code: 200\n",
      "Pulling down data... Status Code: 200\n",
      "Pulling down data... Status Code: 200\n",
      "Pulling down data... Status Code: 200\n",
      "Pulling down data... Status Code: 200\n",
      "Pulling down data... Status Code: 200\n",
      "Pulling down data... Status Code: 200\n",
      "Pulling down data... Status Code: 200\n",
      "Pulling down data... Status Code: 200\n",
      "Pulling down data... Status Code: 200\n",
      "Pulling down data... Status Code: 200\n",
      "Pulling down data... Status Code: 200\n",
      "Pulling down data... Status Code: 200\n",
      "Pulling down data... Status Code: 200\n",
      "Pulling down data... Status Code: 200\n",
      "Pulling down data... Status Code: 200\n",
      "Pulling down data... Status Code: 200\n"
     ]
    },
    {
     "data": {
      "text/plain": [
       "20000"
      ]
     },
     "execution_count": 11,
     "metadata": {},
     "output_type": "execute_result"
    }
   ],
   "source": [
    "# instantiate list for posts\n",
    "shitty_data = []\n",
    "\n",
    "# call pull_posts with n = 40 to get 20,000 posts\n",
    "pull_posts_before('shittyaskscience', 40, shitty_data)\n",
    "\n",
    "# check length of data, should be 40,000\n",
    "len(shitty_data)"
   ]
  },
  {
   "cell_type": "code",
   "execution_count": 12,
   "metadata": {},
   "outputs": [
    {
     "name": "stdout",
     "output_type": "stream",
     "text": [
      "353\n"
     ]
    }
   ],
   "source": [
    "# check for duplicates\n",
    "print(len([i['title'] for i in shitty_data]) - len(set([i['title'] for i in shitty_data])))"
   ]
  },
  {
   "cell_type": "code",
   "execution_count": 13,
   "metadata": {},
   "outputs": [],
   "source": [
    "# we have 353 duplicates to remove later"
   ]
  },
  {
   "cell_type": "markdown",
   "metadata": {},
   "source": [
    "## Dataframe Creation"
   ]
  },
  {
   "cell_type": "markdown",
   "metadata": {},
   "source": [
    "Only the values for \"subreddit\" and \"title\" are needed for the models, but \"removed_by_category\" and \"banned_by\" values show if a post has been deleted or removed by moderators, rendering said post invalid. Unnecessary columns can be dropped later."
   ]
  },
  {
   "cell_type": "code",
   "execution_count": 14,
   "metadata": {},
   "outputs": [
    {
     "data": {
      "text/html": [
       "<div>\n",
       "<style scoped>\n",
       "    .dataframe tbody tr th:only-of-type {\n",
       "        vertical-align: middle;\n",
       "    }\n",
       "\n",
       "    .dataframe tbody tr th {\n",
       "        vertical-align: top;\n",
       "    }\n",
       "\n",
       "    .dataframe thead th {\n",
       "        text-align: right;\n",
       "    }\n",
       "</style>\n",
       "<table border=\"1\" class=\"dataframe\">\n",
       "  <thead>\n",
       "    <tr style=\"text-align: right;\">\n",
       "      <th></th>\n",
       "      <th>all_awardings</th>\n",
       "      <th>allow_live_comments</th>\n",
       "      <th>author</th>\n",
       "      <th>author_flair_css_class</th>\n",
       "      <th>author_flair_richtext</th>\n",
       "      <th>author_flair_text</th>\n",
       "      <th>author_flair_type</th>\n",
       "      <th>author_fullname</th>\n",
       "      <th>author_patreon_flair</th>\n",
       "      <th>author_premium</th>\n",
       "      <th>...</th>\n",
       "      <th>can_gild</th>\n",
       "      <th>category</th>\n",
       "      <th>content_categories</th>\n",
       "      <th>hidden</th>\n",
       "      <th>quarantine</th>\n",
       "      <th>removal_reason</th>\n",
       "      <th>subreddit_name_prefixed</th>\n",
       "      <th>suggested_sort</th>\n",
       "      <th>rte_mode</th>\n",
       "      <th>author_id</th>\n",
       "    </tr>\n",
       "  </thead>\n",
       "  <tbody>\n",
       "    <tr>\n",
       "      <th>0</th>\n",
       "      <td>[]</td>\n",
       "      <td>False</td>\n",
       "      <td>Pakislav</td>\n",
       "      <td>None</td>\n",
       "      <td>[]</td>\n",
       "      <td>None</td>\n",
       "      <td>text</td>\n",
       "      <td>t2_8ozi5</td>\n",
       "      <td>False</td>\n",
       "      <td>False</td>\n",
       "      <td>...</td>\n",
       "      <td>NaN</td>\n",
       "      <td>NaN</td>\n",
       "      <td>NaN</td>\n",
       "      <td>NaN</td>\n",
       "      <td>NaN</td>\n",
       "      <td>NaN</td>\n",
       "      <td>NaN</td>\n",
       "      <td>NaN</td>\n",
       "      <td>NaN</td>\n",
       "      <td>NaN</td>\n",
       "    </tr>\n",
       "    <tr>\n",
       "      <th>1</th>\n",
       "      <td>[]</td>\n",
       "      <td>False</td>\n",
       "      <td>BabyParenting1920</td>\n",
       "      <td>None</td>\n",
       "      <td>[]</td>\n",
       "      <td>None</td>\n",
       "      <td>text</td>\n",
       "      <td>t2_63yulwx7</td>\n",
       "      <td>False</td>\n",
       "      <td>False</td>\n",
       "      <td>...</td>\n",
       "      <td>NaN</td>\n",
       "      <td>NaN</td>\n",
       "      <td>NaN</td>\n",
       "      <td>NaN</td>\n",
       "      <td>NaN</td>\n",
       "      <td>NaN</td>\n",
       "      <td>NaN</td>\n",
       "      <td>NaN</td>\n",
       "      <td>NaN</td>\n",
       "      <td>NaN</td>\n",
       "    </tr>\n",
       "    <tr>\n",
       "      <th>2</th>\n",
       "      <td>[]</td>\n",
       "      <td>False</td>\n",
       "      <td>Medwin_the_Scaled</td>\n",
       "      <td>None</td>\n",
       "      <td>[]</td>\n",
       "      <td>None</td>\n",
       "      <td>text</td>\n",
       "      <td>t2_5d29szr2</td>\n",
       "      <td>False</td>\n",
       "      <td>False</td>\n",
       "      <td>...</td>\n",
       "      <td>NaN</td>\n",
       "      <td>NaN</td>\n",
       "      <td>NaN</td>\n",
       "      <td>NaN</td>\n",
       "      <td>NaN</td>\n",
       "      <td>NaN</td>\n",
       "      <td>NaN</td>\n",
       "      <td>NaN</td>\n",
       "      <td>NaN</td>\n",
       "      <td>NaN</td>\n",
       "    </tr>\n",
       "    <tr>\n",
       "      <th>3</th>\n",
       "      <td>[]</td>\n",
       "      <td>False</td>\n",
       "      <td>[deleted]</td>\n",
       "      <td>None</td>\n",
       "      <td>NaN</td>\n",
       "      <td>None</td>\n",
       "      <td>NaN</td>\n",
       "      <td>NaN</td>\n",
       "      <td>NaN</td>\n",
       "      <td>NaN</td>\n",
       "      <td>...</td>\n",
       "      <td>NaN</td>\n",
       "      <td>NaN</td>\n",
       "      <td>NaN</td>\n",
       "      <td>NaN</td>\n",
       "      <td>NaN</td>\n",
       "      <td>NaN</td>\n",
       "      <td>NaN</td>\n",
       "      <td>NaN</td>\n",
       "      <td>NaN</td>\n",
       "      <td>NaN</td>\n",
       "    </tr>\n",
       "    <tr>\n",
       "      <th>4</th>\n",
       "      <td>[]</td>\n",
       "      <td>False</td>\n",
       "      <td>Silmarlion</td>\n",
       "      <td>None</td>\n",
       "      <td>[]</td>\n",
       "      <td>None</td>\n",
       "      <td>text</td>\n",
       "      <td>t2_f5edp</td>\n",
       "      <td>False</td>\n",
       "      <td>False</td>\n",
       "      <td>...</td>\n",
       "      <td>NaN</td>\n",
       "      <td>NaN</td>\n",
       "      <td>NaN</td>\n",
       "      <td>NaN</td>\n",
       "      <td>NaN</td>\n",
       "      <td>NaN</td>\n",
       "      <td>NaN</td>\n",
       "      <td>NaN</td>\n",
       "      <td>NaN</td>\n",
       "      <td>NaN</td>\n",
       "    </tr>\n",
       "    <tr>\n",
       "      <th>...</th>\n",
       "      <td>...</td>\n",
       "      <td>...</td>\n",
       "      <td>...</td>\n",
       "      <td>...</td>\n",
       "      <td>...</td>\n",
       "      <td>...</td>\n",
       "      <td>...</td>\n",
       "      <td>...</td>\n",
       "      <td>...</td>\n",
       "      <td>...</td>\n",
       "      <td>...</td>\n",
       "      <td>...</td>\n",
       "      <td>...</td>\n",
       "      <td>...</td>\n",
       "      <td>...</td>\n",
       "      <td>...</td>\n",
       "      <td>...</td>\n",
       "      <td>...</td>\n",
       "      <td>...</td>\n",
       "      <td>...</td>\n",
       "      <td>...</td>\n",
       "    </tr>\n",
       "    <tr>\n",
       "      <th>39995</th>\n",
       "      <td>NaN</td>\n",
       "      <td>NaN</td>\n",
       "      <td>Redskuling</td>\n",
       "      <td>None</td>\n",
       "      <td>[]</td>\n",
       "      <td>None</td>\n",
       "      <td>text</td>\n",
       "      <td>NaN</td>\n",
       "      <td>NaN</td>\n",
       "      <td>NaN</td>\n",
       "      <td>...</td>\n",
       "      <td>NaN</td>\n",
       "      <td>NaN</td>\n",
       "      <td>NaN</td>\n",
       "      <td>NaN</td>\n",
       "      <td>NaN</td>\n",
       "      <td>NaN</td>\n",
       "      <td>NaN</td>\n",
       "      <td>NaN</td>\n",
       "      <td>markdown</td>\n",
       "      <td>NaN</td>\n",
       "    </tr>\n",
       "    <tr>\n",
       "      <th>39996</th>\n",
       "      <td>NaN</td>\n",
       "      <td>NaN</td>\n",
       "      <td>TheCreatorLovesYou</td>\n",
       "      <td>None</td>\n",
       "      <td>[]</td>\n",
       "      <td>None</td>\n",
       "      <td>text</td>\n",
       "      <td>NaN</td>\n",
       "      <td>NaN</td>\n",
       "      <td>NaN</td>\n",
       "      <td>...</td>\n",
       "      <td>NaN</td>\n",
       "      <td>NaN</td>\n",
       "      <td>NaN</td>\n",
       "      <td>NaN</td>\n",
       "      <td>NaN</td>\n",
       "      <td>NaN</td>\n",
       "      <td>NaN</td>\n",
       "      <td>NaN</td>\n",
       "      <td>markdown</td>\n",
       "      <td>NaN</td>\n",
       "    </tr>\n",
       "    <tr>\n",
       "      <th>39997</th>\n",
       "      <td>NaN</td>\n",
       "      <td>NaN</td>\n",
       "      <td>P0J0</td>\n",
       "      <td>None</td>\n",
       "      <td>[]</td>\n",
       "      <td>None</td>\n",
       "      <td>text</td>\n",
       "      <td>NaN</td>\n",
       "      <td>NaN</td>\n",
       "      <td>NaN</td>\n",
       "      <td>...</td>\n",
       "      <td>NaN</td>\n",
       "      <td>NaN</td>\n",
       "      <td>NaN</td>\n",
       "      <td>NaN</td>\n",
       "      <td>NaN</td>\n",
       "      <td>NaN</td>\n",
       "      <td>NaN</td>\n",
       "      <td>NaN</td>\n",
       "      <td>markdown</td>\n",
       "      <td>NaN</td>\n",
       "    </tr>\n",
       "    <tr>\n",
       "      <th>39998</th>\n",
       "      <td>NaN</td>\n",
       "      <td>NaN</td>\n",
       "      <td>bloodofgore</td>\n",
       "      <td>None</td>\n",
       "      <td>[]</td>\n",
       "      <td>None</td>\n",
       "      <td>text</td>\n",
       "      <td>NaN</td>\n",
       "      <td>NaN</td>\n",
       "      <td>NaN</td>\n",
       "      <td>...</td>\n",
       "      <td>NaN</td>\n",
       "      <td>NaN</td>\n",
       "      <td>NaN</td>\n",
       "      <td>NaN</td>\n",
       "      <td>NaN</td>\n",
       "      <td>NaN</td>\n",
       "      <td>NaN</td>\n",
       "      <td>NaN</td>\n",
       "      <td>markdown</td>\n",
       "      <td>NaN</td>\n",
       "    </tr>\n",
       "    <tr>\n",
       "      <th>39999</th>\n",
       "      <td>NaN</td>\n",
       "      <td>NaN</td>\n",
       "      <td>OKDharmaBum</td>\n",
       "      <td>None</td>\n",
       "      <td>[]</td>\n",
       "      <td>None</td>\n",
       "      <td>text</td>\n",
       "      <td>NaN</td>\n",
       "      <td>NaN</td>\n",
       "      <td>NaN</td>\n",
       "      <td>...</td>\n",
       "      <td>NaN</td>\n",
       "      <td>NaN</td>\n",
       "      <td>NaN</td>\n",
       "      <td>NaN</td>\n",
       "      <td>NaN</td>\n",
       "      <td>NaN</td>\n",
       "      <td>NaN</td>\n",
       "      <td>NaN</td>\n",
       "      <td>markdown</td>\n",
       "      <td>NaN</td>\n",
       "    </tr>\n",
       "  </tbody>\n",
       "</table>\n",
       "<p>40000 rows × 96 columns</p>\n",
       "</div>"
      ],
      "text/plain": [
       "      all_awardings allow_live_comments              author  \\\n",
       "0                []               False            Pakislav   \n",
       "1                []               False   BabyParenting1920   \n",
       "2                []               False   Medwin_the_Scaled   \n",
       "3                []               False           [deleted]   \n",
       "4                []               False          Silmarlion   \n",
       "...             ...                 ...                 ...   \n",
       "39995           NaN                 NaN          Redskuling   \n",
       "39996           NaN                 NaN  TheCreatorLovesYou   \n",
       "39997           NaN                 NaN                P0J0   \n",
       "39998           NaN                 NaN         bloodofgore   \n",
       "39999           NaN                 NaN         OKDharmaBum   \n",
       "\n",
       "      author_flair_css_class author_flair_richtext author_flair_text  \\\n",
       "0                       None                    []              None   \n",
       "1                       None                    []              None   \n",
       "2                       None                    []              None   \n",
       "3                       None                   NaN              None   \n",
       "4                       None                    []              None   \n",
       "...                      ...                   ...               ...   \n",
       "39995                   None                    []              None   \n",
       "39996                   None                    []              None   \n",
       "39997                   None                    []              None   \n",
       "39998                   None                    []              None   \n",
       "39999                   None                    []              None   \n",
       "\n",
       "      author_flair_type author_fullname author_patreon_flair author_premium  \\\n",
       "0                  text        t2_8ozi5                False          False   \n",
       "1                  text     t2_63yulwx7                False          False   \n",
       "2                  text     t2_5d29szr2                False          False   \n",
       "3                   NaN             NaN                  NaN            NaN   \n",
       "4                  text        t2_f5edp                False          False   \n",
       "...                 ...             ...                  ...            ...   \n",
       "39995              text             NaN                  NaN            NaN   \n",
       "39996              text             NaN                  NaN            NaN   \n",
       "39997              text             NaN                  NaN            NaN   \n",
       "39998              text             NaN                  NaN            NaN   \n",
       "39999              text             NaN                  NaN            NaN   \n",
       "\n",
       "       ... can_gild  category  content_categories  hidden quarantine  \\\n",
       "0      ...      NaN       NaN                 NaN     NaN        NaN   \n",
       "1      ...      NaN       NaN                 NaN     NaN        NaN   \n",
       "2      ...      NaN       NaN                 NaN     NaN        NaN   \n",
       "3      ...      NaN       NaN                 NaN     NaN        NaN   \n",
       "4      ...      NaN       NaN                 NaN     NaN        NaN   \n",
       "...    ...      ...       ...                 ...     ...        ...   \n",
       "39995  ...      NaN       NaN                 NaN     NaN        NaN   \n",
       "39996  ...      NaN       NaN                 NaN     NaN        NaN   \n",
       "39997  ...      NaN       NaN                 NaN     NaN        NaN   \n",
       "39998  ...      NaN       NaN                 NaN     NaN        NaN   \n",
       "39999  ...      NaN       NaN                 NaN     NaN        NaN   \n",
       "\n",
       "      removal_reason subreddit_name_prefixed suggested_sort  rte_mode  \\\n",
       "0                NaN                     NaN            NaN       NaN   \n",
       "1                NaN                     NaN            NaN       NaN   \n",
       "2                NaN                     NaN            NaN       NaN   \n",
       "3                NaN                     NaN            NaN       NaN   \n",
       "4                NaN                     NaN            NaN       NaN   \n",
       "...              ...                     ...            ...       ...   \n",
       "39995            NaN                     NaN            NaN  markdown   \n",
       "39996            NaN                     NaN            NaN  markdown   \n",
       "39997            NaN                     NaN            NaN  markdown   \n",
       "39998            NaN                     NaN            NaN  markdown   \n",
       "39999            NaN                     NaN            NaN  markdown   \n",
       "\n",
       "      author_id  \n",
       "0           NaN  \n",
       "1           NaN  \n",
       "2           NaN  \n",
       "3           NaN  \n",
       "4           NaN  \n",
       "...         ...  \n",
       "39995       NaN  \n",
       "39996       NaN  \n",
       "39997       NaN  \n",
       "39998       NaN  \n",
       "39999       NaN  \n",
       "\n",
       "[40000 rows x 96 columns]"
      ]
     },
     "execution_count": 14,
     "metadata": {},
     "output_type": "execute_result"
    }
   ],
   "source": [
    "# build dataframes\n",
    "df = pd.DataFrame(data)\n",
    "df['subreddit'] = 'askscience'\n",
    "\n",
    "shitty_df = pd.DataFrame(shitty_data)\n",
    "shitty_df['subreddit'] = 'shittyaskscience'\n",
    "\n",
    "# combine dataframes\n",
    "combined_df = pd.concat([df, shitty_df])\n",
    "combined_df.reset_index(drop=True)"
   ]
  },
  {
   "cell_type": "code",
   "execution_count": 15,
   "metadata": {},
   "outputs": [
    {
     "data": {
      "text/plain": [
       "shittyaskscience    20000\n",
       "askscience          20000\n",
       "Name: subreddit, dtype: int64"
      ]
     },
     "execution_count": 15,
     "metadata": {},
     "output_type": "execute_result"
    }
   ],
   "source": [
    "# check the target\n",
    "combined_df['subreddit'].value_counts()"
   ]
  },
  {
   "cell_type": "markdown",
   "metadata": {},
   "source": [
    "## Export Data to .csv"
   ]
  },
  {
   "cell_type": "code",
   "execution_count": 16,
   "metadata": {},
   "outputs": [],
   "source": [
    "# naming the file 'b4timeanchor.csv' in order to keep track of old and new data to be collected in the future\n",
    "\n",
    "combined_df.to_csv('./data/b4timeanchor.csv', index=False)"
   ]
  }
 ],
 "metadata": {
  "kernelspec": {
   "display_name": "Python 3",
   "language": "python",
   "name": "python3"
  },
  "language_info": {
   "codemirror_mode": {
    "name": "ipython",
    "version": 3
   },
   "file_extension": ".py",
   "mimetype": "text/x-python",
   "name": "python",
   "nbconvert_exporter": "python",
   "pygments_lexer": "ipython3",
   "version": "3.7.6"
  }
 },
 "nbformat": 4,
 "nbformat_minor": 4
}
